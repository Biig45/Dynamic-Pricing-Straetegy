{
 "cells": [
  {
   "cell_type": "code",
   "execution_count": 31,
   "id": "fc3a2ead-223a-4ceb-ace7-5bf7deeb1d78",
   "metadata": {},
   "outputs": [],
   "source": [
    "import pandas as pd\n",
    "import seaborn as sns\n",
    "import matplotlib.pyplot as plt\n",
    "%matplotlib inline\n",
    "import numpy as np\n",
    "import plotly.express as px\n",
    "import plotly.graph_objects as go"
   ]
  },
  {
   "cell_type": "code",
   "execution_count": 32,
   "id": "bbcda38c-88b0-45a7-9e6f-5a1933da1683",
   "metadata": {},
   "outputs": [],
   "source": [
    "data = pd.read_csv('./dynamic_pricing.csv')"
   ]
  },
  {
   "cell_type": "markdown",
   "id": "f8306449-ef24-4c95-959e-de4162f108a4",
   "metadata": {},
   "source": [
    "## EDA"
   ]
  },
  {
   "cell_type": "code",
   "execution_count": 33,
   "id": "273f28a2-ddd5-43fd-9016-179ef0f89630",
   "metadata": {},
   "outputs": [
    {
     "data": {
      "text/html": [
       "<div>\n",
       "<style scoped>\n",
       "    .dataframe tbody tr th:only-of-type {\n",
       "        vertical-align: middle;\n",
       "    }\n",
       "\n",
       "    .dataframe tbody tr th {\n",
       "        vertical-align: top;\n",
       "    }\n",
       "\n",
       "    .dataframe thead th {\n",
       "        text-align: right;\n",
       "    }\n",
       "</style>\n",
       "<table border=\"1\" class=\"dataframe\">\n",
       "  <thead>\n",
       "    <tr style=\"text-align: right;\">\n",
       "      <th></th>\n",
       "      <th>Number_of_Riders</th>\n",
       "      <th>Number_of_Drivers</th>\n",
       "      <th>Location_Category</th>\n",
       "      <th>Customer_Loyalty_Status</th>\n",
       "      <th>Number_of_Past_Rides</th>\n",
       "      <th>Average_Ratings</th>\n",
       "      <th>Time_of_Booking</th>\n",
       "      <th>Vehicle_Type</th>\n",
       "      <th>Expected_Ride_Duration</th>\n",
       "      <th>Historical_Cost_of_Ride</th>\n",
       "    </tr>\n",
       "  </thead>\n",
       "  <tbody>\n",
       "    <tr>\n",
       "      <th>0</th>\n",
       "      <td>90</td>\n",
       "      <td>45</td>\n",
       "      <td>Urban</td>\n",
       "      <td>Silver</td>\n",
       "      <td>13</td>\n",
       "      <td>4.47</td>\n",
       "      <td>Night</td>\n",
       "      <td>Premium</td>\n",
       "      <td>90</td>\n",
       "      <td>284.257273</td>\n",
       "    </tr>\n",
       "    <tr>\n",
       "      <th>1</th>\n",
       "      <td>58</td>\n",
       "      <td>39</td>\n",
       "      <td>Suburban</td>\n",
       "      <td>Silver</td>\n",
       "      <td>72</td>\n",
       "      <td>4.06</td>\n",
       "      <td>Evening</td>\n",
       "      <td>Economy</td>\n",
       "      <td>43</td>\n",
       "      <td>173.874753</td>\n",
       "    </tr>\n",
       "    <tr>\n",
       "      <th>2</th>\n",
       "      <td>42</td>\n",
       "      <td>31</td>\n",
       "      <td>Rural</td>\n",
       "      <td>Silver</td>\n",
       "      <td>0</td>\n",
       "      <td>3.99</td>\n",
       "      <td>Afternoon</td>\n",
       "      <td>Premium</td>\n",
       "      <td>76</td>\n",
       "      <td>329.795469</td>\n",
       "    </tr>\n",
       "    <tr>\n",
       "      <th>3</th>\n",
       "      <td>89</td>\n",
       "      <td>28</td>\n",
       "      <td>Rural</td>\n",
       "      <td>Regular</td>\n",
       "      <td>67</td>\n",
       "      <td>4.31</td>\n",
       "      <td>Afternoon</td>\n",
       "      <td>Premium</td>\n",
       "      <td>134</td>\n",
       "      <td>470.201232</td>\n",
       "    </tr>\n",
       "    <tr>\n",
       "      <th>4</th>\n",
       "      <td>78</td>\n",
       "      <td>22</td>\n",
       "      <td>Rural</td>\n",
       "      <td>Regular</td>\n",
       "      <td>74</td>\n",
       "      <td>3.77</td>\n",
       "      <td>Afternoon</td>\n",
       "      <td>Economy</td>\n",
       "      <td>149</td>\n",
       "      <td>579.681422</td>\n",
       "    </tr>\n",
       "  </tbody>\n",
       "</table>\n",
       "</div>"
      ],
      "text/plain": [
       "   Number_of_Riders  Number_of_Drivers Location_Category  \\\n",
       "0                90                 45             Urban   \n",
       "1                58                 39          Suburban   \n",
       "2                42                 31             Rural   \n",
       "3                89                 28             Rural   \n",
       "4                78                 22             Rural   \n",
       "\n",
       "  Customer_Loyalty_Status  Number_of_Past_Rides  Average_Ratings  \\\n",
       "0                  Silver                    13             4.47   \n",
       "1                  Silver                    72             4.06   \n",
       "2                  Silver                     0             3.99   \n",
       "3                 Regular                    67             4.31   \n",
       "4                 Regular                    74             3.77   \n",
       "\n",
       "  Time_of_Booking Vehicle_Type  Expected_Ride_Duration  \\\n",
       "0           Night      Premium                      90   \n",
       "1         Evening      Economy                      43   \n",
       "2       Afternoon      Premium                      76   \n",
       "3       Afternoon      Premium                     134   \n",
       "4       Afternoon      Economy                     149   \n",
       "\n",
       "   Historical_Cost_of_Ride  \n",
       "0               284.257273  \n",
       "1               173.874753  \n",
       "2               329.795469  \n",
       "3               470.201232  \n",
       "4               579.681422  "
      ]
     },
     "execution_count": 33,
     "metadata": {},
     "output_type": "execute_result"
    }
   ],
   "source": [
    "data.head()"
   ]
  },
  {
   "cell_type": "code",
   "execution_count": 34,
   "id": "b395f29a-3944-409e-a214-3b5d717a3f11",
   "metadata": {},
   "outputs": [
    {
     "data": {
      "text/html": [
       "<div>\n",
       "<style scoped>\n",
       "    .dataframe tbody tr th:only-of-type {\n",
       "        vertical-align: middle;\n",
       "    }\n",
       "\n",
       "    .dataframe tbody tr th {\n",
       "        vertical-align: top;\n",
       "    }\n",
       "\n",
       "    .dataframe thead th {\n",
       "        text-align: right;\n",
       "    }\n",
       "</style>\n",
       "<table border=\"1\" class=\"dataframe\">\n",
       "  <thead>\n",
       "    <tr style=\"text-align: right;\">\n",
       "      <th></th>\n",
       "      <th>Number_of_Riders</th>\n",
       "      <th>Number_of_Drivers</th>\n",
       "      <th>Number_of_Past_Rides</th>\n",
       "      <th>Average_Ratings</th>\n",
       "      <th>Expected_Ride_Duration</th>\n",
       "      <th>Historical_Cost_of_Ride</th>\n",
       "    </tr>\n",
       "  </thead>\n",
       "  <tbody>\n",
       "    <tr>\n",
       "      <th>count</th>\n",
       "      <td>1000.000000</td>\n",
       "      <td>1000.000000</td>\n",
       "      <td>1000.000000</td>\n",
       "      <td>1000.000000</td>\n",
       "      <td>1000.00000</td>\n",
       "      <td>1000.000000</td>\n",
       "    </tr>\n",
       "    <tr>\n",
       "      <th>mean</th>\n",
       "      <td>60.372000</td>\n",
       "      <td>27.076000</td>\n",
       "      <td>50.031000</td>\n",
       "      <td>4.257220</td>\n",
       "      <td>99.58800</td>\n",
       "      <td>372.502623</td>\n",
       "    </tr>\n",
       "    <tr>\n",
       "      <th>std</th>\n",
       "      <td>23.701506</td>\n",
       "      <td>19.068346</td>\n",
       "      <td>29.313774</td>\n",
       "      <td>0.435781</td>\n",
       "      <td>49.16545</td>\n",
       "      <td>187.158756</td>\n",
       "    </tr>\n",
       "    <tr>\n",
       "      <th>min</th>\n",
       "      <td>20.000000</td>\n",
       "      <td>5.000000</td>\n",
       "      <td>0.000000</td>\n",
       "      <td>3.500000</td>\n",
       "      <td>10.00000</td>\n",
       "      <td>25.993449</td>\n",
       "    </tr>\n",
       "    <tr>\n",
       "      <th>25%</th>\n",
       "      <td>40.000000</td>\n",
       "      <td>11.000000</td>\n",
       "      <td>25.000000</td>\n",
       "      <td>3.870000</td>\n",
       "      <td>59.75000</td>\n",
       "      <td>221.365202</td>\n",
       "    </tr>\n",
       "    <tr>\n",
       "      <th>50%</th>\n",
       "      <td>60.000000</td>\n",
       "      <td>22.000000</td>\n",
       "      <td>51.000000</td>\n",
       "      <td>4.270000</td>\n",
       "      <td>102.00000</td>\n",
       "      <td>362.019426</td>\n",
       "    </tr>\n",
       "    <tr>\n",
       "      <th>75%</th>\n",
       "      <td>81.000000</td>\n",
       "      <td>38.000000</td>\n",
       "      <td>75.000000</td>\n",
       "      <td>4.632500</td>\n",
       "      <td>143.00000</td>\n",
       "      <td>510.497504</td>\n",
       "    </tr>\n",
       "    <tr>\n",
       "      <th>max</th>\n",
       "      <td>100.000000</td>\n",
       "      <td>89.000000</td>\n",
       "      <td>100.000000</td>\n",
       "      <td>5.000000</td>\n",
       "      <td>180.00000</td>\n",
       "      <td>836.116419</td>\n",
       "    </tr>\n",
       "  </tbody>\n",
       "</table>\n",
       "</div>"
      ],
      "text/plain": [
       "       Number_of_Riders  Number_of_Drivers  Number_of_Past_Rides  \\\n",
       "count       1000.000000        1000.000000           1000.000000   \n",
       "mean          60.372000          27.076000             50.031000   \n",
       "std           23.701506          19.068346             29.313774   \n",
       "min           20.000000           5.000000              0.000000   \n",
       "25%           40.000000          11.000000             25.000000   \n",
       "50%           60.000000          22.000000             51.000000   \n",
       "75%           81.000000          38.000000             75.000000   \n",
       "max          100.000000          89.000000            100.000000   \n",
       "\n",
       "       Average_Ratings  Expected_Ride_Duration  Historical_Cost_of_Ride  \n",
       "count      1000.000000              1000.00000              1000.000000  \n",
       "mean          4.257220                99.58800               372.502623  \n",
       "std           0.435781                49.16545               187.158756  \n",
       "min           3.500000                10.00000                25.993449  \n",
       "25%           3.870000                59.75000               221.365202  \n",
       "50%           4.270000               102.00000               362.019426  \n",
       "75%           4.632500               143.00000               510.497504  \n",
       "max           5.000000               180.00000               836.116419  "
      ]
     },
     "execution_count": 34,
     "metadata": {},
     "output_type": "execute_result"
    }
   ],
   "source": [
    "data.describe()"
   ]
  },
  {
   "cell_type": "code",
   "execution_count": 35,
   "id": "7be0cff1-9981-4a2e-8a99-cd65684b4284",
   "metadata": {},
   "outputs": [
    {
     "data": {
      "text/plain": [
       "(1000, 10)"
      ]
     },
     "execution_count": 35,
     "metadata": {},
     "output_type": "execute_result"
    }
   ],
   "source": [
    "data.shape"
   ]
  },
  {
   "cell_type": "code",
   "execution_count": 36,
   "id": "6f093378-b967-411b-96b7-dda6d5cbe436",
   "metadata": {},
   "outputs": [
    {
     "data": {
      "image/png": "[encoded data removed]",
      "text/plain": [
       "<Figure size 1000x600 with 1 Axes>"
      ]
     },
     "metadata": {},
     "output_type": "display_data"
    }
   ],
   "source": [
    "# Relationship Between Expected Ride Duration and Historical Cost of Ride\n",
    "\n",
    "plt.figure(figsize=(10,6))\n",
    "plt.scatter(data['Expected_Ride_Duration'], data['Historical_Cost_of_Ride'], label='Data', alpha=0.6)\n",
    "sns.regplot(x='Expected_Ride_Duration', y='Historical_Cost_of_Ride', data=data, scatter=False, label='OLS Trendline')\n",
    "plt.title('Expected Ride Duration vs HIstorical Cost of Ride')\n",
    "plt.xlabel('Expected Ride Duration')\n",
    "plt.ylabel('Historical Cost of Ride')\n",
    "plt.grid()\n",
    "plt.show()"
   ]
  },
  {
   "cell_type": "code",
   "execution_count": 37,
   "id": "91122548-8c4f-472d-a3cc-271bd74dd756",
   "metadata": {},
   "outputs": [
    {
     "data": {
      "image/png": "[encoded data removed]",
      "text/plain": [
       "<Figure size 1000x600 with 1 Axes>"
      ]
     },
     "metadata": {},
     "output_type": "display_data"
    }
   ],
   "source": [
    "# Relationship Between Vehicle Type and Historical Cost of Ride\n",
    "premium_vehicle = data[data['Vehicle_Type'] == 'Premium']\n",
    "economy_vehicle = data[data['Vehicle_Type'] == 'Economy']\n",
    "plt.figure(figsize=(10,6))\n",
    "plt.boxplot([data[data['Vehicle_Type'] == 'Premium']['Historical_Cost_of_Ride'],\n",
    "           data[data['Vehicle_Type'] == 'Economy']['Historical_Cost_of_Ride']], labels=['Premium','Economy'])\n",
    "plt.title('Vehicle Type vs HIstorical Cost of Ride')\n",
    "plt.xlabel('Vehicle Type')\n",
    "plt.ylabel('Historical Cost of Ride')\n",
    "plt.grid()\n",
    "plt.show()"
   ]
  },
  {
   "cell_type": "code",
   "execution_count": 38,
   "id": "3866d6ec-4842-4e89-b5b9-cf964b254fb6",
   "metadata": {},
   "outputs": [
    {
     "data": {
      "text/plain": [
       "array(['Premium', 'Economy'], dtype=object)"
      ]
     },
     "execution_count": 38,
     "metadata": {},
     "output_type": "execute_result"
    }
   ],
   "source": [
    "data['Vehicle_Type'].unique()"
   ]
  },
  {
   "cell_type": "code",
   "execution_count": 39,
   "id": "a97e0423-99c7-4607-a057-097351e6b875",
   "metadata": {},
   "outputs": [
    {
     "data": {
      "application/vnd.plotly.v1+json": {
       "config": {
        "plotlyServerURL": "https://plot.ly"
       },
       "data": [
        {
         "colorscale": [
          [
           0,
           "#440154"
          ],
          [
           0.1111111111111111,
           "#482878"
          ],
          [
           0.2222222222222222,
           "#3e4989"
          ],
          [
           0.3333333333333333,
           "#31688e"
          ],
          [
           0.4444444444444444,
           "#26828e"
          ],
          [
           0.5555555555555556,
           "#1f9e89"
          ],
          [
           0.6666666666666666,
           "#35b779"
          ],
          [
           0.7777777777777778,
           "#6ece58"
          ],
          [
           0.8888888888888888,
           "#b5de2b"
          ],
          [
           1,
           "#fde725"
          ]
         ],
         "type": "heatmap",
         "x": [
          "Number_of_Riders",
          "Number_of_Drivers",
          "Number_of_Past_Rides",
          "Average_Ratings",
          "Expected_Ride_Duration",
          "Historical_Cost_of_Ride"
         ],
         "y": [
          "Number_of_Riders",
          "Number_of_Drivers",
          "Number_of_Past_Rides",
          "Average_Ratings",
          "Expected_Ride_Duration",
          "Historical_Cost_of_Ride"
         ],
         "z": [
          [
           1,
           0.6270163439391535,
           0.029265067803157782,
           0.008571553929793356,
           -0.015856250970185698,
           0.005825700512009107
          ],
          [
           0.6270163439391535,
           1,
           0.03966045350119979,
           0.04120448886162892,
           -0.02441758526027005,
           0.017081701145137258
          ],
          [
           0.029265067803157782,
           0.03966045350119979,
           1,
           -0.06473352197876757,
           0.030678756196033143,
           0.035858664321205505
          ],
          [
           0.008571553929793356,
           0.04120448886162892,
           -0.06473352197876757,
           1,
           -0.01696815614456701,
           -0.0010633418406511875
          ],
          [
           -0.015856250970185698,
           -0.02441758526027005,
           0.030678756196033143,
           -0.01696815614456701,
           1,
           0.9275471833882497
          ],
          [
           0.005825700512009107,
           0.017081701145137258,
           0.035858664321205505,
           -0.0010633418406511875,
           0.9275471833882497,
           1
          ]
         ]
        }
       ],
       "layout": {
        "autosize": true,
        "template": {
         "data": {
          "bar": [
           {
            "error_x": {
             "color": "#2a3f5f"
            },
            "error_y": {
             "color": "#2a3f5f"
            },
            "marker": {
             "line": {
              "color": "#E5ECF6",
              "width": 0.5
             },
             "pattern": {
              "fillmode": "overlay",
              "size": 10,
              "solidity": 0.2
             }
            },
            "type": "bar"
           }
          ],
          "barpolar": [
           {
            "marker": {
             "line": {
              "color": "#E5ECF6",
              "width": 0.5
             },
             "pattern": {
              "fillmode": "overlay",
              "size": 10,
              "solidity": 0.2
             }
            },
            "type": "barpolar"
           }
          ],
          "carpet": [
           {
            "aaxis": {
             "endlinecolor": "#2a3f5f",
             "gridcolor": "white",
             "linecolor": "white",
             "minorgridcolor": "white",
             "startlinecolor": "#2a3f5f"
            },
            "baxis": {
             "endlinecolor": "#2a3f5f",
             "gridcolor": "white",
             "linecolor": "white",
             "minorgridcolor": "white",
             "startlinecolor": "#2a3f5f"
            },
            "type": "carpet"
           }
          ],
          "choropleth": [
           {
            "colorbar": {
             "outlinewidth": 0,
             "ticks": ""
            },
            "type": "choropleth"
           }
          ],
          "contour": [
           {
            "colorbar": {
             "outlinewidth": 0,
             "ticks": ""
            },
            "colorscale": [
             [
              0,
              "#0d0887"
             ],
             [
              0.1111111111111111,
              "#46039f"
             ],
             [
              0.2222222222222222,
              "#7201a8"
             ],
             [
              0.3333333333333333,
              "#9c179e"
             ],
             [
              0.4444444444444444,
              "#bd3786"
             ],
             [
              0.5555555555555556,
              "#d8576b"
             ],
             [
              0.6666666666666666,
              "#ed7953"
             ],
             [
              0.7777777777777778,
              "#fb9f3a"
             ],
             [
              0.8888888888888888,
              "#fdca26"
             ],
             [
              1,
              "#f0f921"
             ]
            ],
            "type": "contour"
           }
          ],
          "contourcarpet": [
           {
            "colorbar": {
             "outlinewidth": 0,
             "ticks": ""
            },
            "type": "contourcarpet"
           }
          ],
          "heatmap": [
           {
            "colorbar": {
             "outlinewidth": 0,
             "ticks": ""
            },
            "colorscale": [
             [
              0,
              "#0d0887"
             ],
             [
              0.1111111111111111,
              "#46039f"
             ],
             [
              0.2222222222222222,
              "#7201a8"
             ],
             [
              0.3333333333333333,
              "#9c179e"
             ],
             [
              0.4444444444444444,
              "#bd3786"
             ],
             [
              0.5555555555555556,
              "#d8576b"
             ],
             [
              0.6666666666666666,
              "#ed7953"
             ],
             [
              0.7777777777777778,
              "#fb9f3a"
             ],
             [
              0.8888888888888888,
              "#fdca26"
             ],
             [
              1,
              "#f0f921"
             ]
            ],
            "type": "heatmap"
           }
          ],
          "heatmapgl": [
           {
            "colorbar": {
             "outlinewidth": 0,
             "ticks": ""
            },
            "colorscale": [
             [
              0,
              "#0d0887"
             ],
             [
              0.1111111111111111,
              "#46039f"
             ],
             [
              0.2222222222222222,
              "#7201a8"
             ],
             [
              0.3333333333333333,
              "#9c179e"
             ],
             [
              0.4444444444444444,
              "#bd3786"
             ],
             [
              0.5555555555555556,
              "#d8576b"
             ],
             [
              0.6666666666666666,
              "#ed7953"
             ],
             [
              0.7777777777777778,
              "#fb9f3a"
             ],
             [
              0.8888888888888888,
              "#fdca26"
             ],
             [
              1,
              "#f0f921"
             ]
            ],
            "type": "heatmapgl"
           }
          ],
          "histogram": [
           {
            "marker": {
             "pattern": {
              "fillmode": "overlay",
              "size": 10,
              "solidity": 0.2
             }
            },
            "type": "histogram"
           }
          ],
          "histogram2d": [
           {
            "colorbar": {
             "outlinewidth": 0,
             "ticks": ""
            },
            "colorscale": [
             [
              0,
              "#0d0887"
             ],
             [
              0.1111111111111111,
              "#46039f"
             ],
             [
              0.2222222222222222,
              "#7201a8"
             ],
             [
              0.3333333333333333,
              "#9c179e"
             ],
             [
              0.4444444444444444,
              "#bd3786"
             ],
             [
              0.5555555555555556,
              "#d8576b"
             ],
             [
              0.6666666666666666,
              "#ed7953"
             ],
             [
              0.7777777777777778,
              "#fb9f3a"
             ],
             [
              0.8888888888888888,
              "#fdca26"
             ],
             [
              1,
              "#f0f921"
             ]
            ],
            "type": "histogram2d"
           }
          ],
          "histogram2dcontour": [
           {
            "colorbar": {
             "outlinewidth": 0,
             "ticks": ""
            },
            "colorscale": [
             [
              0,
              "#0d0887"
             ],
             [
              0.1111111111111111,
              "#46039f"
             ],
             [
              0.2222222222222222,
              "#7201a8"
             ],
             [
              0.3333333333333333,
              "#9c179e"
             ],
             [
              0.4444444444444444,
              "#bd3786"
             ],
             [
              0.5555555555555556,
              "#d8576b"
             ],
             [
              0.6666666666666666,
              "#ed7953"
             ],
             [
              0.7777777777777778,
              "#fb9f3a"
             ],
             [
              0.8888888888888888,
              "#fdca26"
             ],
             [
              1,
              "#f0f921"
             ]
            ],
            "type": "histogram2dcontour"
           }
          ],
          "mesh3d": [
           {
            "colorbar": {
             "outlinewidth": 0,
             "ticks": ""
            },
            "type": "mesh3d"
           }
          ],
          "parcoords": [
           {
            "line": {
             "colorbar": {
              "outlinewidth": 0,
              "ticks": ""
             }
            },
            "type": "parcoords"
           }
          ],
          "pie": [
           {
            "automargin": true,
            "type": "pie"
           }
          ],
          "scatter": [
           {
            "fillpattern": {
             "fillmode": "overlay",
             "size": 10,
             "solidity": 0.2
            },
            "type": "scatter"
           }
          ],
          "scatter3d": [
           {
            "line": {
             "colorbar": {
              "outlinewidth": 0,
              "ticks": ""
             }
            },
            "marker": {
             "colorbar": {
              "outlinewidth": 0,
              "ticks": ""
             }
            },
            "type": "scatter3d"
           }
          ],
          "scattercarpet": [
           {
            "marker": {
             "colorbar": {
              "outlinewidth": 0,
              "ticks": ""
             }
            },
            "type": "scattercarpet"
           }
          ],
          "scattergeo": [
           {
            "marker": {
             "colorbar": {
              "outlinewidth": 0,
              "ticks": ""
             }
            },
            "type": "scattergeo"
           }
          ],
          "scattergl": [
           {
            "marker": {
             "colorbar": {
              "outlinewidth": 0,
              "ticks": ""
             }
            },
            "type": "scattergl"
           }
          ],
          "scattermapbox": [
           {
            "marker": {
             "colorbar": {
              "outlinewidth": 0,
              "ticks": ""
             }
            },
            "type": "scattermapbox"
           }
          ],
          "scatterpolar": [
           {
            "marker": {
             "colorbar": {
              "outlinewidth": 0,
              "ticks": ""
             }
            },
            "type": "scatterpolar"
           }
          ],
          "scatterpolargl": [
           {
            "marker": {
             "colorbar": {
              "outlinewidth": 0,
              "ticks": ""
             }
            },
            "type": "scatterpolargl"
           }
          ],
          "scatterternary": [
           {
            "marker": {
             "colorbar": {
              "outlinewidth": 0,
              "ticks": ""
             }
            },
            "type": "scatterternary"
           }
          ],
          "surface": [
           {
            "colorbar": {
             "outlinewidth": 0,
             "ticks": ""
            },
            "colorscale": [
             [
              0,
              "#0d0887"
             ],
             [
              0.1111111111111111,
              "#46039f"
             ],
             [
              0.2222222222222222,
              "#7201a8"
             ],
             [
              0.3333333333333333,
              "#9c179e"
             ],
             [
              0.4444444444444444,
              "#bd3786"
             ],
             [
              0.5555555555555556,
              "#d8576b"
             ],
             [
              0.6666666666666666,
              "#ed7953"
             ],
             [
              0.7777777777777778,
              "#fb9f3a"
             ],
             [
              0.8888888888888888,
              "#fdca26"
             ],
             [
              1,
              "#f0f921"
             ]
            ],
            "type": "surface"
           }
          ],
          "table": [
           {
            "cells": {
             "fill": {
              "color": "#EBF0F8"
             },
             "line": {
              "color": "white"
             }
            },
            "header": {
             "fill": {
              "color": "#C8D4E3"
             },
             "line": {
              "color": "white"
             }
            },
            "type": "table"
           }
          ]
         },
         "layout": {
          "annotationdefaults": {
           "arrowcolor": "#2a3f5f",
           "arrowhead": 0,
           "arrowwidth": 1
          },
          "autotypenumbers": "strict",
          "coloraxis": {
           "colorbar": {
            "outlinewidth": 0,
            "ticks": ""
           }
          },
          "colorscale": {
           "diverging": [
            [
             0,
             "#8e0152"
            ],
            [
             0.1,
             "#c51b7d"
            ],
            [
             0.2,
             "#de77ae"
            ],
            [
             0.3,
             "#f1b6da"
            ],
            [
             0.4,
             "#fde0ef"
            ],
            [
             0.5,
             "#f7f7f7"
            ],
            [
             0.6,
             "#e6f5d0"
            ],
            [
             0.7,
             "#b8e186"
            ],
            [
             0.8,
             "#7fbc41"
            ],
            [
             0.9,
             "#4d9221"
            ],
            [
             1,
             "#276419"
            ]
           ],
           "sequential": [
            [
             0,
             "#0d0887"
            ],
            [
             0.1111111111111111,
             "#46039f"
            ],
            [
             0.2222222222222222,
             "#7201a8"
            ],
            [
             0.3333333333333333,
             "#9c179e"
            ],
            [
             0.4444444444444444,
             "#bd3786"
            ],
            [
             0.5555555555555556,
             "#d8576b"
            ],
            [
             0.6666666666666666,
             "#ed7953"
            ],
            [
             0.7777777777777778,
             "#fb9f3a"
            ],
            [
             0.8888888888888888,
             "#fdca26"
            ],
            [
             1,
             "#f0f921"
            ]
           ],
           "sequentialminus": [
            [
             0,
             "#0d0887"
            ],
            [
             0.1111111111111111,
             "#46039f"
            ],
            [
             0.2222222222222222,
             "#7201a8"
            ],
            [
             0.3333333333333333,
             "#9c179e"
            ],
            [
             0.4444444444444444,
             "#bd3786"
            ],
            [
             0.5555555555555556,
             "#d8576b"
            ],
            [
             0.6666666666666666,
             "#ed7953"
            ],
            [
             0.7777777777777778,
             "#fb9f3a"
            ],
            [
             0.8888888888888888,
             "#fdca26"
            ],
            [
             1,
             "#f0f921"
            ]
           ]
          },
          "colorway": [
           "#636efa",
           "#EF553B",
           "#00cc96",
           "#ab63fa",
           "#FFA15A",
           "#19d3f3",
           "#FF6692",
           "#B6E880",
           "#FF97FF",
           "#FECB52"
          ],
          "font": {
           "color": "#2a3f5f"
          },
          "geo": {
           "bgcolor": "white",
           "lakecolor": "white",
           "landcolor": "#E5ECF6",
           "showlakes": true,
           "showland": true,
           "subunitcolor": "white"
          },
          "hoverlabel": {
           "align": "left"
          },
          "hovermode": "closest",
          "mapbox": {
           "style": "light"
          },
          "paper_bgcolor": "white",
          "plot_bgcolor": "#E5ECF6",
          "polar": {
           "angularaxis": {
            "gridcolor": "white",
            "linecolor": "white",
            "ticks": ""
           },
           "bgcolor": "#E5ECF6",
           "radialaxis": {
            "gridcolor": "white",
            "linecolor": "white",
            "ticks": ""
           }
          },
          "scene": {
           "xaxis": {
            "backgroundcolor": "#E5ECF6",
            "gridcolor": "white",
            "gridwidth": 2,
            "linecolor": "white",
            "showbackground": true,
            "ticks": "",
            "zerolinecolor": "white"
           },
           "yaxis": {
            "backgroundcolor": "#E5ECF6",
            "gridcolor": "white",
            "gridwidth": 2,
            "linecolor": "white",
            "showbackground": true,
            "ticks": "",
            "zerolinecolor": "white"
           },
           "zaxis": {
            "backgroundcolor": "#E5ECF6",
            "gridcolor": "white",
            "gridwidth": 2,
            "linecolor": "white",
            "showbackground": true,
            "ticks": "",
            "zerolinecolor": "white"
           }
          },
          "shapedefaults": {
           "line": {
            "color": "#2a3f5f"
           }
          },
          "ternary": {
           "aaxis": {
            "gridcolor": "white",
            "linecolor": "white",
            "ticks": ""
           },
           "baxis": {
            "gridcolor": "white",
            "linecolor": "white",
            "ticks": ""
           },
           "bgcolor": "#E5ECF6",
           "caxis": {
            "gridcolor": "white",
            "linecolor": "white",
            "ticks": ""
           }
          },
          "title": {
           "x": 0.05
          },
          "xaxis": {
           "automargin": true,
           "gridcolor": "white",
           "linecolor": "white",
           "ticks": "",
           "title": {
            "standoff": 15
           },
           "zerolinecolor": "white",
           "zerolinewidth": 2
          },
          "yaxis": {
           "automargin": true,
           "gridcolor": "white",
           "linecolor": "white",
           "ticks": "",
           "title": {
            "standoff": 15
           },
           "zerolinecolor": "white",
           "zerolinewidth": 2
          }
         }
        },
        "title": {
         "text": "Correlation Matrix"
        },
        "xaxis": {
         "autorange": true,
         "range": [
          -0.5,
          5.5
         ],
         "type": "category"
        },
        "yaxis": {
         "autorange": true,
         "range": [
          -0.5,
          5.5
         ],
         "type": "category"
        }
       }
      },
      "text/html": [
       "<div>                            <div id=\"5f9905ca-9398-485d-b47d-be2958ad11e1\" class=\"plotly-graph-div\" style=\"height:525px; width:100%;\"></div>            <script type=\"text/javascript\">                require([\"plotly\"], function(Plotly) {                    window.PLOTLYENV=window.PLOTLYENV || {};                                    if (document.getElementById(\"5f9905ca-9398-485d-b47d-be2958ad11e1\")) {                    Plotly.newPlot(                        \"5f9905ca-9398-485d-b47d-be2958ad11e1\",                        [{\"colorscale\":[[0.0,\"#440154\"],[0.1111111111111111,\"#482878\"],[0.2222222222222222,\"#3e4989\"],[0.3333333333333333,\"#31688e\"],[0.4444444444444444,\"#26828e\"],[0.5555555555555556,\"#1f9e89\"],[0.6666666666666666,\"#35b779\"],[0.7777777777777778,\"#6ece58\"],[0.8888888888888888,\"#b5de2b\"],[1.0,\"#fde725\"]],\"x\":[\"Number_of_Riders\",\"Number_of_Drivers\",\"Number_of_Past_Rides\",\"Average_Ratings\",\"Expected_Ride_Duration\",\"Historical_Cost_of_Ride\"],\"y\":[\"Number_of_Riders\",\"Number_of_Drivers\",\"Number_of_Past_Rides\",\"Average_Ratings\",\"Expected_Ride_Duration\",\"Historical_Cost_of_Ride\"],\"z\":[[1.0,0.6270163439391535,0.029265067803157782,0.008571553929793356,-0.015856250970185698,0.005825700512009107],[0.6270163439391535,1.0,0.03966045350119979,0.04120448886162892,-0.02441758526027005,0.017081701145137258],[0.029265067803157782,0.03966045350119979,1.0,-0.06473352197876757,0.030678756196033143,0.035858664321205505],[0.008571553929793356,0.04120448886162892,-0.06473352197876757,1.0,-0.01696815614456701,-0.0010633418406511875],[-0.015856250970185698,-0.02441758526027005,0.030678756196033143,-0.01696815614456701,1.0,0.9275471833882497],[0.005825700512009107,0.017081701145137258,0.035858664321205505,-0.0010633418406511875,0.9275471833882497,1.0]],\"type\":\"heatmap\"}],                        {\"template\":{\"data\":{\"histogram2dcontour\":[{\"type\":\"histogram2dcontour\",\"colorbar\":{\"outlinewidth\":0,\"ticks\":\"\"},\"colorscale\":[[0.0,\"#0d0887\"],[0.1111111111111111,\"#46039f\"],[0.2222222222222222,\"#7201a8\"],[0.3333333333333333,\"#9c179e\"],[0.4444444444444444,\"#bd3786\"],[0.5555555555555556,\"#d8576b\"],[0.6666666666666666,\"#ed7953\"],[0.7777777777777778,\"#fb9f3a\"],[0.8888888888888888,\"#fdca26\"],[1.0,\"#f0f921\"]]}],\"choropleth\":[{\"type\":\"choropleth\",\"colorbar\":{\"outlinewidth\":0,\"ticks\":\"\"}}],\"histogram2d\":[{\"type\":\"histogram2d\",\"colorbar\":{\"outlinewidth\":0,\"ticks\":\"\"},\"colorscale\":[[0.0,\"#0d0887\"],[0.1111111111111111,\"#46039f\"],[0.2222222222222222,\"#7201a8\"],[0.3333333333333333,\"#9c179e\"],[0.4444444444444444,\"#bd3786\"],[0.5555555555555556,\"#d8576b\"],[0.6666666666666666,\"#ed7953\"],[0.7777777777777778,\"#fb9f3a\"],[0.8888888888888888,\"#fdca26\"],[1.0,\"#f0f921\"]]}],\"heatmap\":[{\"type\":\"heatmap\",\"colorbar\":{\"outlinewidth\":0,\"ticks\":\"\"},\"colorscale\":[[0.0,\"#0d0887\"],[0.1111111111111111,\"#46039f\"],[0.2222222222222222,\"#7201a8\"],[0.3333333333333333,\"#9c179e\"],[0.4444444444444444,\"#bd3786\"],[0.5555555555555556,\"#d8576b\"],[0.6666666666666666,\"#ed7953\"],[0.7777777777777778,\"#fb9f3a\"],[0.8888888888888888,\"#fdca26\"],[1.0,\"#f0f921\"]]}],\"heatmapgl\":[{\"type\":\"heatmapgl\",\"colorbar\":{\"outlinewidth\":0,\"ticks\":\"\"},\"colorscale\":[[0.0,\"#0d0887\"],[0.1111111111111111,\"#46039f\"],[0.2222222222222222,\"#7201a8\"],[0.3333333333333333,\"#9c179e\"],[0.4444444444444444,\"#bd3786\"],[0.5555555555555556,\"#d8576b\"],[0.6666666666666666,\"#ed7953\"],[0.7777777777777778,\"#fb9f3a\"],[0.8888888888888888,\"#fdca26\"],[1.0,\"#f0f921\"]]}],\"contourcarpet\":[{\"type\":\"contourcarpet\",\"colorbar\":{\"outlinewidth\":0,\"ticks\":\"\"}}],\"contour\":[{\"type\":\"contour\",\"colorbar\":{\"outlinewidth\":0,\"ticks\":\"\"},\"colorscale\":[[0.0,\"#0d0887\"],[0.1111111111111111,\"#46039f\"],[0.2222222222222222,\"#7201a8\"],[0.3333333333333333,\"#9c179e\"],[0.4444444444444444,\"#bd3786\"],[0.5555555555555556,\"#d8576b\"],[0.6666666666666666,\"#ed7953\"],[0.7777777777777778,\"#fb9f3a\"],[0.8888888888888888,\"#fdca26\"],[1.0,\"#f0f921\"]]}],\"surface\":[{\"type\":\"surface\",\"colorbar\":{\"outlinewidth\":0,\"ticks\":\"\"},\"colorscale\":[[0.0,\"#0d0887\"],[0.1111111111111111,\"#46039f\"],[0.2222222222222222,\"#7201a8\"],[0.3333333333333333,\"#9c179e\"],[0.4444444444444444,\"#bd3786\"],[0.5555555555555556,\"#d8576b\"],[0.6666666666666666,\"#ed7953\"],[0.7777777777777778,\"#fb9f3a\"],[0.8888888888888888,\"#fdca26\"],[1.0,\"#f0f921\"]]}],\"mesh3d\":[{\"type\":\"mesh3d\",\"colorbar\":{\"outlinewidth\":0,\"ticks\":\"\"}}],\"scatter\":[{\"fillpattern\":{\"fillmode\":\"overlay\",\"size\":10,\"solidity\":0.2},\"type\":\"scatter\"}],\"parcoords\":[{\"type\":\"parcoords\",\"line\":{\"colorbar\":{\"outlinewidth\":0,\"ticks\":\"\"}}}],\"scatterpolargl\":[{\"type\":\"scatterpolargl\",\"marker\":{\"colorbar\":{\"outlinewidth\":0,\"ticks\":\"\"}}}],\"bar\":[{\"error_x\":{\"color\":\"#2a3f5f\"},\"error_y\":{\"color\":\"#2a3f5f\"},\"marker\":{\"line\":{\"color\":\"#E5ECF6\",\"width\":0.5},\"pattern\":{\"fillmode\":\"overlay\",\"size\":10,\"solidity\":0.2}},\"type\":\"bar\"}],\"scattergeo\":[{\"type\":\"scattergeo\",\"marker\":{\"colorbar\":{\"outlinewidth\":0,\"ticks\":\"\"}}}],\"scatterpolar\":[{\"type\":\"scatterpolar\",\"marker\":{\"colorbar\":{\"outlinewidth\":0,\"ticks\":\"\"}}}],\"histogram\":[{\"marker\":{\"pattern\":{\"fillmode\":\"overlay\",\"size\":10,\"solidity\":0.2}},\"type\":\"histogram\"}],\"scattergl\":[{\"type\":\"scattergl\",\"marker\":{\"colorbar\":{\"outlinewidth\":0,\"ticks\":\"\"}}}],\"scatter3d\":[{\"type\":\"scatter3d\",\"line\":{\"colorbar\":{\"outlinewidth\":0,\"ticks\":\"\"}},\"marker\":{\"colorbar\":{\"outlinewidth\":0,\"ticks\":\"\"}}}],\"scattermapbox\":[{\"type\":\"scattermapbox\",\"marker\":{\"colorbar\":{\"outlinewidth\":0,\"ticks\":\"\"}}}],\"scatterternary\":[{\"type\":\"scatterternary\",\"marker\":{\"colorbar\":{\"outlinewidth\":0,\"ticks\":\"\"}}}],\"scattercarpet\":[{\"type\":\"scattercarpet\",\"marker\":{\"colorbar\":{\"outlinewidth\":0,\"ticks\":\"\"}}}],\"carpet\":[{\"aaxis\":{\"endlinecolor\":\"#2a3f5f\",\"gridcolor\":\"white\",\"linecolor\":\"white\",\"minorgridcolor\":\"white\",\"startlinecolor\":\"#2a3f5f\"},\"baxis\":{\"endlinecolor\":\"#2a3f5f\",\"gridcolor\":\"white\",\"linecolor\":\"white\",\"minorgridcolor\":\"white\",\"startlinecolor\":\"#2a3f5f\"},\"type\":\"carpet\"}],\"table\":[{\"cells\":{\"fill\":{\"color\":\"#EBF0F8\"},\"line\":{\"color\":\"white\"}},\"header\":{\"fill\":{\"color\":\"#C8D4E3\"},\"line\":{\"color\":\"white\"}},\"type\":\"table\"}],\"barpolar\":[{\"marker\":{\"line\":{\"color\":\"#E5ECF6\",\"width\":0.5},\"pattern\":{\"fillmode\":\"overlay\",\"size\":10,\"solidity\":0.2}},\"type\":\"barpolar\"}],\"pie\":[{\"automargin\":true,\"type\":\"pie\"}]},\"layout\":{\"autotypenumbers\":\"strict\",\"colorway\":[\"#636efa\",\"#EF553B\",\"#00cc96\",\"#ab63fa\",\"#FFA15A\",\"#19d3f3\",\"#FF6692\",\"#B6E880\",\"#FF97FF\",\"#FECB52\"],\"font\":{\"color\":\"#2a3f5f\"},\"hovermode\":\"closest\",\"hoverlabel\":{\"align\":\"left\"},\"paper_bgcolor\":\"white\",\"plot_bgcolor\":\"#E5ECF6\",\"polar\":{\"bgcolor\":\"#E5ECF6\",\"angularaxis\":{\"gridcolor\":\"white\",\"linecolor\":\"white\",\"ticks\":\"\"},\"radialaxis\":{\"gridcolor\":\"white\",\"linecolor\":\"white\",\"ticks\":\"\"}},\"ternary\":{\"bgcolor\":\"#E5ECF6\",\"aaxis\":{\"gridcolor\":\"white\",\"linecolor\":\"white\",\"ticks\":\"\"},\"baxis\":{\"gridcolor\":\"white\",\"linecolor\":\"white\",\"ticks\":\"\"},\"caxis\":{\"gridcolor\":\"white\",\"linecolor\":\"white\",\"ticks\":\"\"}},\"coloraxis\":{\"colorbar\":{\"outlinewidth\":0,\"ticks\":\"\"}},\"colorscale\":{\"sequential\":[[0.0,\"#0d0887\"],[0.1111111111111111,\"#46039f\"],[0.2222222222222222,\"#7201a8\"],[0.3333333333333333,\"#9c179e\"],[0.4444444444444444,\"#bd3786\"],[0.5555555555555556,\"#d8576b\"],[0.6666666666666666,\"#ed7953\"],[0.7777777777777778,\"#fb9f3a\"],[0.8888888888888888,\"#fdca26\"],[1.0,\"#f0f921\"]],\"sequentialminus\":[[0.0,\"#0d0887\"],[0.1111111111111111,\"#46039f\"],[0.2222222222222222,\"#7201a8\"],[0.3333333333333333,\"#9c179e\"],[0.4444444444444444,\"#bd3786\"],[0.5555555555555556,\"#d8576b\"],[0.6666666666666666,\"#ed7953\"],[0.7777777777777778,\"#fb9f3a\"],[0.8888888888888888,\"#fdca26\"],[1.0,\"#f0f921\"]],\"diverging\":[[0,\"#8e0152\"],[0.1,\"#c51b7d\"],[0.2,\"#de77ae\"],[0.3,\"#f1b6da\"],[0.4,\"#fde0ef\"],[0.5,\"#f7f7f7\"],[0.6,\"#e6f5d0\"],[0.7,\"#b8e186\"],[0.8,\"#7fbc41\"],[0.9,\"#4d9221\"],[1,\"#276419\"]]},\"xaxis\":{\"gridcolor\":\"white\",\"linecolor\":\"white\",\"ticks\":\"\",\"title\":{\"standoff\":15},\"zerolinecolor\":\"white\",\"automargin\":true,\"zerolinewidth\":2},\"yaxis\":{\"gridcolor\":\"white\",\"linecolor\":\"white\",\"ticks\":\"\",\"title\":{\"standoff\":15},\"zerolinecolor\":\"white\",\"automargin\":true,\"zerolinewidth\":2},\"scene\":{\"xaxis\":{\"backgroundcolor\":\"#E5ECF6\",\"gridcolor\":\"white\",\"linecolor\":\"white\",\"showbackground\":true,\"ticks\":\"\",\"zerolinecolor\":\"white\",\"gridwidth\":2},\"yaxis\":{\"backgroundcolor\":\"#E5ECF6\",\"gridcolor\":\"white\",\"linecolor\":\"white\",\"showbackground\":true,\"ticks\":\"\",\"zerolinecolor\":\"white\",\"gridwidth\":2},\"zaxis\":{\"backgroundcolor\":\"#E5ECF6\",\"gridcolor\":\"white\",\"linecolor\":\"white\",\"showbackground\":true,\"ticks\":\"\",\"zerolinecolor\":\"white\",\"gridwidth\":2}},\"shapedefaults\":{\"line\":{\"color\":\"#2a3f5f\"}},\"annotationdefaults\":{\"arrowcolor\":\"#2a3f5f\",\"arrowhead\":0,\"arrowwidth\":1},\"geo\":{\"bgcolor\":\"white\",\"landcolor\":\"#E5ECF6\",\"subunitcolor\":\"white\",\"showland\":true,\"showlakes\":true,\"lakecolor\":\"white\"},\"title\":{\"x\":0.05},\"mapbox\":{\"style\":\"light\"}}},\"title\":{\"text\":\"Correlation Matrix\"}},                        {\"responsive\": true}                    ).then(function(){\n",
       "                            \n",
       "var gd = document.getElementById('5f9905ca-9398-485d-b47d-be2958ad11e1');\n",
       "var x = new MutationObserver(function (mutations, observer) {{\n",
       "        var display = window.getComputedStyle(gd).display;\n",
       "        if (!display || display === 'none') {{\n",
       "            console.log([gd, 'removed!']);\n",
       "            Plotly.purge(gd);\n",
       "            observer.disconnect();\n",
       "        }}\n",
       "}});\n",
       "\n",
       "// Listen for the removal of the full notebook cells\n",
       "var notebookContainer = gd.closest('#notebook-container');\n",
       "if (notebookContainer) {{\n",
       "    x.observe(notebookContainer, {childList: true});\n",
       "}}\n",
       "\n",
       "// Listen for the clearing of the current output cell\n",
       "var outputEl = gd.closest('.output');\n",
       "if (outputEl) {{\n",
       "    x.observe(outputEl, {childList: true});\n",
       "}}\n",
       "\n",
       "                        })                };                });            </script>        </div>"
      ]
     },
     "metadata": {},
     "output_type": "display_data"
    }
   ],
   "source": [
    "# Correlation Matrix\n",
    "filter = ['Number_of_Riders', 'Number_of_Drivers', 'Number_of_Past_Rides', 'Average_Ratings', 'Expected_Ride_Duration','Historical_Cost_of_Ride']\n",
    "selected_df = data[filter]\n",
    "corr_matrix = selected_df.corr()\n",
    "\n",
    "fig = go.Figure(data=go.Heatmap(z=corr_matrix.values, \n",
    "                                x=corr_matrix.columns, \n",
    "                                y=corr_matrix.columns,\n",
    "                                colorscale='Viridis'))\n",
    "fig.update_layout(title='Correlation Matrix')\n",
    "fig.show()"
   ]
  },
  {
   "cell_type": "markdown",
   "id": "7fc1e109-224c-459a-94fe-d2f097dc74b2",
   "metadata": {},
   "source": [
    "### Implementing Dynamic Pricing Strategy"
   ]
  },
  {
   "cell_type": "code",
   "execution_count": 40,
   "id": "d4a7c7f5-4187-4305-9dfc-7a1a7080d4d7",
   "metadata": {},
   "outputs": [],
   "source": [
    "import numpy as np\n",
    "\n",
    "# Calculate demand_multiplier based on percentile for high and low demand\n",
    "high_demand_percentile = 75\n",
    "low_demand_percentile = 25\n",
    "\n",
    "data['demand_multiplier'] = np.where(data['Number_of_Riders'] > np.percentile(data['Number_of_Riders'], high_demand_percentile),\n",
    "                                     data['Number_of_Riders'] / np.percentile(data['Number_of_Riders'], high_demand_percentile),\n",
    "                                     data['Number_of_Riders'] / np.percentile(data['Number_of_Riders'], low_demand_percentile))\n",
    "\n",
    "# Calculate supply_multiplier based on percentile for high and low supply\n",
    "high_supply_percentile = 75\n",
    "low_supply_percentile = 25\n",
    "\n",
    "data['supply_multiplier'] = np.where(data['Number_of_Drivers'] > np.percentile(data['Number_of_Drivers'], low_supply_percentile),\n",
    "                                     np.percentile(data['Number_of_Drivers'], high_supply_percentile) / data['Number_of_Drivers'],\n",
    "                                     np.percentile(data['Number_of_Drivers'], low_supply_percentile) / data['Number_of_Drivers'])\n",
    "\n",
    "# Define price adjustment factors for high and low demand/supply\n",
    "demand_threshold_high = 1.2  # Higher demand threshold\n",
    "demand_threshold_low = 0.8  # Lower demand threshold\n",
    "supply_threshold_high = 0.8  # Higher supply threshold\n",
    "supply_threshold_low = 1.2  # Lower supply threshold\n",
    "\n",
    "# Calculate adjusted_ride_cost for dynamic pricing\n",
    "data['adjusted_ride_cost'] = data['Historical_Cost_of_Ride'] * (\n",
    "    np.maximum(data['demand_multiplier'], demand_threshold_low) *\n",
    "    np.maximum(data['supply_multiplier'], supply_threshold_high)\n",
    ")"
   ]
  },
  {
   "cell_type": "code",
   "execution_count": 41,
   "id": "114abc75-472a-4fcb-8335-060b2c4978b9",
   "metadata": {},
   "outputs": [],
   "source": [
    "# Calculate the profit percentage for each ride\n",
    "data['profit_percentage'] = ((data['adjusted_ride_cost'] - data['Historical_Cost_of_Ride']) / data['Historical_Cost_of_Ride']) * 100\n",
    "# Identify profitable rides where profit percentage is positive\n",
    "profitable_rides = data[data['profit_percentage'] > 0]\n",
    "\n",
    "# Identify loss rides where profit percentage is negative\n",
    "loss_rides = data[data['profit_percentage'] < 0]\n",
    "\n",
    "\n",
    "\n"
   ]
  },
  {
   "cell_type": "code",
   "execution_count": 42,
   "id": "85a12825-f2b6-436c-a24c-1712b2bf040b",
   "metadata": {},
   "outputs": [
    {
     "data": {
      "application/vnd.plotly.v1+json": {
       "config": {
        "plotlyServerURL": "https://plot.ly"
       },
       "data": [
        {
         "hole": 0.5,
         "labels": [
          "Profitable Rides",
          "Loss Rides"
         ],
         "type": "pie",
         "values": [
          826,
          173
         ]
        }
       ],
       "layout": {
        "autosize": true,
        "template": {
         "data": {
          "bar": [
           {
            "error_x": {
             "color": "#2a3f5f"
            },
            "error_y": {
             "color": "#2a3f5f"
            },
            "marker": {
             "line": {
              "color": "#E5ECF6",
              "width": 0.5
             },
             "pattern": {
              "fillmode": "overlay",
              "size": 10,
              "solidity": 0.2
             }
            },
            "type": "bar"
           }
          ],
          "barpolar": [
           {
            "marker": {
             "line": {
              "color": "#E5ECF6",
              "width": 0.5
             },
             "pattern": {
              "fillmode": "overlay",
              "size": 10,
              "solidity": 0.2
             }
            },
            "type": "barpolar"
           }
          ],
          "carpet": [
           {
            "aaxis": {
             "endlinecolor": "#2a3f5f",
             "gridcolor": "white",
             "linecolor": "white",
             "minorgridcolor": "white",
             "startlinecolor": "#2a3f5f"
            },
            "baxis": {
             "endlinecolor": "#2a3f5f",
             "gridcolor": "white",
             "linecolor": "white",
             "minorgridcolor": "white",
             "startlinecolor": "#2a3f5f"
            },
            "type": "carpet"
           }
          ],
          "choropleth": [
           {
            "colorbar": {
             "outlinewidth": 0,
             "ticks": ""
            },
            "type": "choropleth"
           }
          ],
          "contour": [
           {
            "colorbar": {
             "outlinewidth": 0,
             "ticks": ""
            },
            "colorscale": [
             [
              0,
              "#0d0887"
             ],
             [
              0.1111111111111111,
              "#46039f"
             ],
             [
              0.2222222222222222,
              "#7201a8"
             ],
             [
              0.3333333333333333,
              "#9c179e"
             ],
             [
              0.4444444444444444,
              "#bd3786"
             ],
             [
              0.5555555555555556,
              "#d8576b"
             ],
             [
              0.6666666666666666,
              "#ed7953"
             ],
             [
              0.7777777777777778,
              "#fb9f3a"
             ],
             [
              0.8888888888888888,
              "#fdca26"
             ],
             [
              1,
              "#f0f921"
             ]
            ],
            "type": "contour"
           }
          ],
          "contourcarpet": [
           {
            "colorbar": {
             "outlinewidth": 0,
             "ticks": ""
            },
            "type": "contourcarpet"
           }
          ],
          "heatmap": [
           {
            "colorbar": {
             "outlinewidth": 0,
             "ticks": ""
            },
            "colorscale": [
             [
              0,
              "#0d0887"
             ],
             [
              0.1111111111111111,
              "#46039f"
             ],
             [
              0.2222222222222222,
              "#7201a8"
             ],
             [
              0.3333333333333333,
              "#9c179e"
             ],
             [
              0.4444444444444444,
              "#bd3786"
             ],
             [
              0.5555555555555556,
              "#d8576b"
             ],
             [
              0.6666666666666666,
              "#ed7953"
             ],
             [
              0.7777777777777778,
              "#fb9f3a"
             ],
             [
              0.8888888888888888,
              "#fdca26"
             ],
             [
              1,
              "#f0f921"
             ]
            ],
            "type": "heatmap"
           }
          ],
          "heatmapgl": [
           {
            "colorbar": {
             "outlinewidth": 0,
             "ticks": ""
            },
            "colorscale": [
             [
              0,
              "#0d0887"
             ],
             [
              0.1111111111111111,
              "#46039f"
             ],
             [
              0.2222222222222222,
              "#7201a8"
             ],
             [
              0.3333333333333333,
              "#9c179e"
             ],
             [
              0.4444444444444444,
              "#bd3786"
             ],
             [
              0.5555555555555556,
              "#d8576b"
             ],
             [
              0.6666666666666666,
              "#ed7953"
             ],
             [
              0.7777777777777778,
              "#fb9f3a"
             ],
             [
              0.8888888888888888,
              "#fdca26"
             ],
             [
              1,
              "#f0f921"
             ]
            ],
            "type": "heatmapgl"
           }
          ],
          "histogram": [
           {
            "marker": {
             "pattern": {
              "fillmode": "overlay",
              "size": 10,
              "solidity": 0.2
             }
            },
            "type": "histogram"
           }
          ],
          "histogram2d": [
           {
            "colorbar": {
             "outlinewidth": 0,
             "ticks": ""
            },
            "colorscale": [
             [
              0,
              "#0d0887"
             ],
             [
              0.1111111111111111,
              "#46039f"
             ],
             [
              0.2222222222222222,
              "#7201a8"
             ],
             [
              0.3333333333333333,
              "#9c179e"
             ],
             [
              0.4444444444444444,
              "#bd3786"
             ],
             [
              0.5555555555555556,
              "#d8576b"
             ],
             [
              0.6666666666666666,
              "#ed7953"
             ],
             [
              0.7777777777777778,
              "#fb9f3a"
             ],
             [
              0.8888888888888888,
              "#fdca26"
             ],
             [
              1,
              "#f0f921"
             ]
            ],
            "type": "histogram2d"
           }
          ],
          "histogram2dcontour": [
           {
            "colorbar": {
             "outlinewidth": 0,
             "ticks": ""
            },
            "colorscale": [
             [
              0,
              "#0d0887"
             ],
             [
              0.1111111111111111,
              "#46039f"
             ],
             [
              0.2222222222222222,
              "#7201a8"
             ],
             [
              0.3333333333333333,
              "#9c179e"
             ],
             [
              0.4444444444444444,
              "#bd3786"
             ],
             [
              0.5555555555555556,
              "#d8576b"
             ],
             [
              0.6666666666666666,
              "#ed7953"
             ],
             [
              0.7777777777777778,
              "#fb9f3a"
             ],
             [
              0.8888888888888888,
              "#fdca26"
             ],
             [
              1,
              "#f0f921"
             ]
            ],
            "type": "histogram2dcontour"
           }
          ],
          "mesh3d": [
           {
            "colorbar": {
             "outlinewidth": 0,
             "ticks": ""
            },
            "type": "mesh3d"
           }
          ],
          "parcoords": [
           {
            "line": {
             "colorbar": {
              "outlinewidth": 0,
              "ticks": ""
             }
            },
            "type": "parcoords"
           }
          ],
          "pie": [
           {
            "automargin": true,
            "type": "pie"
           }
          ],
          "scatter": [
           {
            "fillpattern": {
             "fillmode": "overlay",
             "size": 10,
             "solidity": 0.2
            },
            "type": "scatter"
           }
          ],
          "scatter3d": [
           {
            "line": {
             "colorbar": {
              "outlinewidth": 0,
              "ticks": ""
             }
            },
            "marker": {
             "colorbar": {
              "outlinewidth": 0,
              "ticks": ""
             }
            },
            "type": "scatter3d"
           }
          ],
          "scattercarpet": [
           {
            "marker": {
             "colorbar": {
              "outlinewidth": 0,
              "ticks": ""
             }
            },
            "type": "scattercarpet"
           }
          ],
          "scattergeo": [
           {
            "marker": {
             "colorbar": {
              "outlinewidth": 0,
              "ticks": ""
             }
            },
            "type": "scattergeo"
           }
          ],
          "scattergl": [
           {
            "marker": {
             "colorbar": {
              "outlinewidth": 0,
              "ticks": ""
             }
            },
            "type": "scattergl"
           }
          ],
          "scattermapbox": [
           {
            "marker": {
             "colorbar": {
              "outlinewidth": 0,
              "ticks": ""
             }
            },
            "type": "scattermapbox"
           }
          ],
          "scatterpolar": [
           {
            "marker": {
             "colorbar": {
              "outlinewidth": 0,
              "ticks": ""
             }
            },
            "type": "scatterpolar"
           }
          ],
          "scatterpolargl": [
           {
            "marker": {
             "colorbar": {
              "outlinewidth": 0,
              "ticks": ""
             }
            },
            "type": "scatterpolargl"
           }
          ],
          "scatterternary": [
           {
            "marker": {
             "colorbar": {
              "outlinewidth": 0,
              "ticks": ""
             }
            },
            "type": "scatterternary"
           }
          ],
          "surface": [
           {
            "colorbar": {
             "outlinewidth": 0,
             "ticks": ""
            },
            "colorscale": [
             [
              0,
              "#0d0887"
             ],
             [
              0.1111111111111111,
              "#46039f"
             ],
             [
              0.2222222222222222,
              "#7201a8"
             ],
             [
              0.3333333333333333,
              "#9c179e"
             ],
             [
              0.4444444444444444,
              "#bd3786"
             ],
             [
              0.5555555555555556,
              "#d8576b"
             ],
             [
              0.6666666666666666,
              "#ed7953"
             ],
             [
              0.7777777777777778,
              "#fb9f3a"
             ],
             [
              0.8888888888888888,
              "#fdca26"
             ],
             [
              1,
              "#f0f921"
             ]
            ],
            "type": "surface"
           }
          ],
          "table": [
           {
            "cells": {
             "fill": {
              "color": "#EBF0F8"
             },
             "line": {
              "color": "white"
             }
            },
            "header": {
             "fill": {
              "color": "#C8D4E3"
             },
             "line": {
              "color": "white"
             }
            },
            "type": "table"
           }
          ]
         },
         "layout": {
          "annotationdefaults": {
           "arrowcolor": "#2a3f5f",
           "arrowhead": 0,
           "arrowwidth": 1
          },
          "autotypenumbers": "strict",
          "coloraxis": {
           "colorbar": {
            "outlinewidth": 0,
            "ticks": ""
           }
          },
          "colorscale": {
           "diverging": [
            [
             0,
             "#8e0152"
            ],
            [
             0.1,
             "#c51b7d"
            ],
            [
             0.2,
             "#de77ae"
            ],
            [
             0.3,
             "#f1b6da"
            ],
            [
             0.4,
             "#fde0ef"
            ],
            [
             0.5,
             "#f7f7f7"
            ],
            [
             0.6,
             "#e6f5d0"
            ],
            [
             0.7,
             "#b8e186"
            ],
            [
             0.8,
             "#7fbc41"
            ],
            [
             0.9,
             "#4d9221"
            ],
            [
             1,
             "#276419"
            ]
           ],
           "sequential": [
            [
             0,
             "#0d0887"
            ],
            [
             0.1111111111111111,
             "#46039f"
            ],
            [
             0.2222222222222222,
             "#7201a8"
            ],
            [
             0.3333333333333333,
             "#9c179e"
            ],
            [
             0.4444444444444444,
             "#bd3786"
            ],
            [
             0.5555555555555556,
             "#d8576b"
            ],
            [
             0.6666666666666666,
             "#ed7953"
            ],
            [
             0.7777777777777778,
             "#fb9f3a"
            ],
            [
             0.8888888888888888,
             "#fdca26"
            ],
            [
             1,
             "#f0f921"
            ]
           ],
           "sequentialminus": [
            [
             0,
             "#0d0887"
            ],
            [
             0.1111111111111111,
             "#46039f"
            ],
            [
             0.2222222222222222,
             "#7201a8"
            ],
            [
             0.3333333333333333,
             "#9c179e"
            ],
            [
             0.4444444444444444,
             "#bd3786"
            ],
            [
             0.5555555555555556,
             "#d8576b"
            ],
            [
             0.6666666666666666,
             "#ed7953"
            ],
            [
             0.7777777777777778,
             "#fb9f3a"
            ],
            [
             0.8888888888888888,
             "#fdca26"
            ],
            [
             1,
             "#f0f921"
            ]
           ]
          },
          "colorway": [
           "#636efa",
           "#EF553B",
           "#00cc96",
           "#ab63fa",
           "#FFA15A",
           "#19d3f3",
           "#FF6692",
           "#B6E880",
           "#FF97FF",
           "#FECB52"
          ],
          "font": {
           "color": "#2a3f5f"
          },
          "geo": {
           "bgcolor": "white",
           "lakecolor": "white",
           "landcolor": "#E5ECF6",
           "showlakes": true,
           "showland": true,
           "subunitcolor": "white"
          },
          "hoverlabel": {
           "align": "left"
          },
          "hovermode": "closest",
          "mapbox": {
           "style": "light"
          },
          "paper_bgcolor": "white",
          "plot_bgcolor": "#E5ECF6",
          "polar": {
           "angularaxis": {
            "gridcolor": "white",
            "linecolor": "white",
            "ticks": ""
           },
           "bgcolor": "#E5ECF6",
           "radialaxis": {
            "gridcolor": "white",
            "linecolor": "white",
            "ticks": ""
           }
          },
          "scene": {
           "xaxis": {
            "backgroundcolor": "#E5ECF6",
            "gridcolor": "white",
            "gridwidth": 2,
            "linecolor": "white",
            "showbackground": true,
            "ticks": "",
            "zerolinecolor": "white"
           },
           "yaxis": {
            "backgroundcolor": "#E5ECF6",
            "gridcolor": "white",
            "gridwidth": 2,
            "linecolor": "white",
            "showbackground": true,
            "ticks": "",
            "zerolinecolor": "white"
           },
           "zaxis": {
            "backgroundcolor": "#E5ECF6",
            "gridcolor": "white",
            "gridwidth": 2,
            "linecolor": "white",
            "showbackground": true,
            "ticks": "",
            "zerolinecolor": "white"
           }
          },
          "shapedefaults": {
           "line": {
            "color": "#2a3f5f"
           }
          },
          "ternary": {
           "aaxis": {
            "gridcolor": "white",
            "linecolor": "white",
            "ticks": ""
           },
           "baxis": {
            "gridcolor": "white",
            "linecolor": "white",
            "ticks": ""
           },
           "bgcolor": "#E5ECF6",
           "caxis": {
            "gridcolor": "white",
            "linecolor": "white",
            "ticks": ""
           }
          },
          "title": {
           "x": 0.05
          },
          "xaxis": {
           "automargin": true,
           "gridcolor": "white",
           "linecolor": "white",
           "ticks": "",
           "title": {
            "standoff": 15
           },
           "zerolinecolor": "white",
           "zerolinewidth": 2
          },
          "yaxis": {
           "automargin": true,
           "gridcolor": "white",
           "linecolor": "white",
           "ticks": "",
           "title": {
            "standoff": 15
           },
           "zerolinecolor": "white",
           "zerolinewidth": 2
          }
         }
        },
        "title": {
         "text": "Profitability of Rides (Dynamic Pricing vs. Historical Pricing)"
        }
       }
      },
      "text/html": [
       "<div>                            <div id=\"149a3ceb-fb0a-4c11-ad43-e858e2acab50\" class=\"plotly-graph-div\" style=\"height:525px; width:100%;\"></div>            <script type=\"text/javascript\">                require([\"plotly\"], function(Plotly) {                    window.PLOTLYENV=window.PLOTLYENV || {};                                    if (document.getElementById(\"149a3ceb-fb0a-4c11-ad43-e858e2acab50\")) {                    Plotly.newPlot(                        \"149a3ceb-fb0a-4c11-ad43-e858e2acab50\",                        [{\"hole\":0.5,\"labels\":[\"Profitable Rides\",\"Loss Rides\"],\"values\":[826,173],\"type\":\"pie\"}],                        {\"template\":{\"data\":{\"histogram2dcontour\":[{\"type\":\"histogram2dcontour\",\"colorbar\":{\"outlinewidth\":0,\"ticks\":\"\"},\"colorscale\":[[0.0,\"#0d0887\"],[0.1111111111111111,\"#46039f\"],[0.2222222222222222,\"#7201a8\"],[0.3333333333333333,\"#9c179e\"],[0.4444444444444444,\"#bd3786\"],[0.5555555555555556,\"#d8576b\"],[0.6666666666666666,\"#ed7953\"],[0.7777777777777778,\"#fb9f3a\"],[0.8888888888888888,\"#fdca26\"],[1.0,\"#f0f921\"]]}],\"choropleth\":[{\"type\":\"choropleth\",\"colorbar\":{\"outlinewidth\":0,\"ticks\":\"\"}}],\"histogram2d\":[{\"type\":\"histogram2d\",\"colorbar\":{\"outlinewidth\":0,\"ticks\":\"\"},\"colorscale\":[[0.0,\"#0d0887\"],[0.1111111111111111,\"#46039f\"],[0.2222222222222222,\"#7201a8\"],[0.3333333333333333,\"#9c179e\"],[0.4444444444444444,\"#bd3786\"],[0.5555555555555556,\"#d8576b\"],[0.6666666666666666,\"#ed7953\"],[0.7777777777777778,\"#fb9f3a\"],[0.8888888888888888,\"#fdca26\"],[1.0,\"#f0f921\"]]}],\"heatmap\":[{\"type\":\"heatmap\",\"colorbar\":{\"outlinewidth\":0,\"ticks\":\"\"},\"colorscale\":[[0.0,\"#0d0887\"],[0.1111111111111111,\"#46039f\"],[0.2222222222222222,\"#7201a8\"],[0.3333333333333333,\"#9c179e\"],[0.4444444444444444,\"#bd3786\"],[0.5555555555555556,\"#d8576b\"],[0.6666666666666666,\"#ed7953\"],[0.7777777777777778,\"#fb9f3a\"],[0.8888888888888888,\"#fdca26\"],[1.0,\"#f0f921\"]]}],\"heatmapgl\":[{\"type\":\"heatmapgl\",\"colorbar\":{\"outlinewidth\":0,\"ticks\":\"\"},\"colorscale\":[[0.0,\"#0d0887\"],[0.1111111111111111,\"#46039f\"],[0.2222222222222222,\"#7201a8\"],[0.3333333333333333,\"#9c179e\"],[0.4444444444444444,\"#bd3786\"],[0.5555555555555556,\"#d8576b\"],[0.6666666666666666,\"#ed7953\"],[0.7777777777777778,\"#fb9f3a\"],[0.8888888888888888,\"#fdca26\"],[1.0,\"#f0f921\"]]}],\"contourcarpet\":[{\"type\":\"contourcarpet\",\"colorbar\":{\"outlinewidth\":0,\"ticks\":\"\"}}],\"contour\":[{\"type\":\"contour\",\"colorbar\":{\"outlinewidth\":0,\"ticks\":\"\"},\"colorscale\":[[0.0,\"#0d0887\"],[0.1111111111111111,\"#46039f\"],[0.2222222222222222,\"#7201a8\"],[0.3333333333333333,\"#9c179e\"],[0.4444444444444444,\"#bd3786\"],[0.5555555555555556,\"#d8576b\"],[0.6666666666666666,\"#ed7953\"],[0.7777777777777778,\"#fb9f3a\"],[0.8888888888888888,\"#fdca26\"],[1.0,\"#f0f921\"]]}],\"surface\":[{\"type\":\"surface\",\"colorbar\":{\"outlinewidth\":0,\"ticks\":\"\"},\"colorscale\":[[0.0,\"#0d0887\"],[0.1111111111111111,\"#46039f\"],[0.2222222222222222,\"#7201a8\"],[0.3333333333333333,\"#9c179e\"],[0.4444444444444444,\"#bd3786\"],[0.5555555555555556,\"#d8576b\"],[0.6666666666666666,\"#ed7953\"],[0.7777777777777778,\"#fb9f3a\"],[0.8888888888888888,\"#fdca26\"],[1.0,\"#f0f921\"]]}],\"mesh3d\":[{\"type\":\"mesh3d\",\"colorbar\":{\"outlinewidth\":0,\"ticks\":\"\"}}],\"scatter\":[{\"fillpattern\":{\"fillmode\":\"overlay\",\"size\":10,\"solidity\":0.2},\"type\":\"scatter\"}],\"parcoords\":[{\"type\":\"parcoords\",\"line\":{\"colorbar\":{\"outlinewidth\":0,\"ticks\":\"\"}}}],\"scatterpolargl\":[{\"type\":\"scatterpolargl\",\"marker\":{\"colorbar\":{\"outlinewidth\":0,\"ticks\":\"\"}}}],\"bar\":[{\"error_x\":{\"color\":\"#2a3f5f\"},\"error_y\":{\"color\":\"#2a3f5f\"},\"marker\":{\"line\":{\"color\":\"#E5ECF6\",\"width\":0.5},\"pattern\":{\"fillmode\":\"overlay\",\"size\":10,\"solidity\":0.2}},\"type\":\"bar\"}],\"scattergeo\":[{\"type\":\"scattergeo\",\"marker\":{\"colorbar\":{\"outlinewidth\":0,\"ticks\":\"\"}}}],\"scatterpolar\":[{\"type\":\"scatterpolar\",\"marker\":{\"colorbar\":{\"outlinewidth\":0,\"ticks\":\"\"}}}],\"histogram\":[{\"marker\":{\"pattern\":{\"fillmode\":\"overlay\",\"size\":10,\"solidity\":0.2}},\"type\":\"histogram\"}],\"scattergl\":[{\"type\":\"scattergl\",\"marker\":{\"colorbar\":{\"outlinewidth\":0,\"ticks\":\"\"}}}],\"scatter3d\":[{\"type\":\"scatter3d\",\"line\":{\"colorbar\":{\"outlinewidth\":0,\"ticks\":\"\"}},\"marker\":{\"colorbar\":{\"outlinewidth\":0,\"ticks\":\"\"}}}],\"scattermapbox\":[{\"type\":\"scattermapbox\",\"marker\":{\"colorbar\":{\"outlinewidth\":0,\"ticks\":\"\"}}}],\"scatterternary\":[{\"type\":\"scatterternary\",\"marker\":{\"colorbar\":{\"outlinewidth\":0,\"ticks\":\"\"}}}],\"scattercarpet\":[{\"type\":\"scattercarpet\",\"marker\":{\"colorbar\":{\"outlinewidth\":0,\"ticks\":\"\"}}}],\"carpet\":[{\"aaxis\":{\"endlinecolor\":\"#2a3f5f\",\"gridcolor\":\"white\",\"linecolor\":\"white\",\"minorgridcolor\":\"white\",\"startlinecolor\":\"#2a3f5f\"},\"baxis\":{\"endlinecolor\":\"#2a3f5f\",\"gridcolor\":\"white\",\"linecolor\":\"white\",\"minorgridcolor\":\"white\",\"startlinecolor\":\"#2a3f5f\"},\"type\":\"carpet\"}],\"table\":[{\"cells\":{\"fill\":{\"color\":\"#EBF0F8\"},\"line\":{\"color\":\"white\"}},\"header\":{\"fill\":{\"color\":\"#C8D4E3\"},\"line\":{\"color\":\"white\"}},\"type\":\"table\"}],\"barpolar\":[{\"marker\":{\"line\":{\"color\":\"#E5ECF6\",\"width\":0.5},\"pattern\":{\"fillmode\":\"overlay\",\"size\":10,\"solidity\":0.2}},\"type\":\"barpolar\"}],\"pie\":[{\"automargin\":true,\"type\":\"pie\"}]},\"layout\":{\"autotypenumbers\":\"strict\",\"colorway\":[\"#636efa\",\"#EF553B\",\"#00cc96\",\"#ab63fa\",\"#FFA15A\",\"#19d3f3\",\"#FF6692\",\"#B6E880\",\"#FF97FF\",\"#FECB52\"],\"font\":{\"color\":\"#2a3f5f\"},\"hovermode\":\"closest\",\"hoverlabel\":{\"align\":\"left\"},\"paper_bgcolor\":\"white\",\"plot_bgcolor\":\"#E5ECF6\",\"polar\":{\"bgcolor\":\"#E5ECF6\",\"angularaxis\":{\"gridcolor\":\"white\",\"linecolor\":\"white\",\"ticks\":\"\"},\"radialaxis\":{\"gridcolor\":\"white\",\"linecolor\":\"white\",\"ticks\":\"\"}},\"ternary\":{\"bgcolor\":\"#E5ECF6\",\"aaxis\":{\"gridcolor\":\"white\",\"linecolor\":\"white\",\"ticks\":\"\"},\"baxis\":{\"gridcolor\":\"white\",\"linecolor\":\"white\",\"ticks\":\"\"},\"caxis\":{\"gridcolor\":\"white\",\"linecolor\":\"white\",\"ticks\":\"\"}},\"coloraxis\":{\"colorbar\":{\"outlinewidth\":0,\"ticks\":\"\"}},\"colorscale\":{\"sequential\":[[0.0,\"#0d0887\"],[0.1111111111111111,\"#46039f\"],[0.2222222222222222,\"#7201a8\"],[0.3333333333333333,\"#9c179e\"],[0.4444444444444444,\"#bd3786\"],[0.5555555555555556,\"#d8576b\"],[0.6666666666666666,\"#ed7953\"],[0.7777777777777778,\"#fb9f3a\"],[0.8888888888888888,\"#fdca26\"],[1.0,\"#f0f921\"]],\"sequentialminus\":[[0.0,\"#0d0887\"],[0.1111111111111111,\"#46039f\"],[0.2222222222222222,\"#7201a8\"],[0.3333333333333333,\"#9c179e\"],[0.4444444444444444,\"#bd3786\"],[0.5555555555555556,\"#d8576b\"],[0.6666666666666666,\"#ed7953\"],[0.7777777777777778,\"#fb9f3a\"],[0.8888888888888888,\"#fdca26\"],[1.0,\"#f0f921\"]],\"diverging\":[[0,\"#8e0152\"],[0.1,\"#c51b7d\"],[0.2,\"#de77ae\"],[0.3,\"#f1b6da\"],[0.4,\"#fde0ef\"],[0.5,\"#f7f7f7\"],[0.6,\"#e6f5d0\"],[0.7,\"#b8e186\"],[0.8,\"#7fbc41\"],[0.9,\"#4d9221\"],[1,\"#276419\"]]},\"xaxis\":{\"gridcolor\":\"white\",\"linecolor\":\"white\",\"ticks\":\"\",\"title\":{\"standoff\":15},\"zerolinecolor\":\"white\",\"automargin\":true,\"zerolinewidth\":2},\"yaxis\":{\"gridcolor\":\"white\",\"linecolor\":\"white\",\"ticks\":\"\",\"title\":{\"standoff\":15},\"zerolinecolor\":\"white\",\"automargin\":true,\"zerolinewidth\":2},\"scene\":{\"xaxis\":{\"backgroundcolor\":\"#E5ECF6\",\"gridcolor\":\"white\",\"linecolor\":\"white\",\"showbackground\":true,\"ticks\":\"\",\"zerolinecolor\":\"white\",\"gridwidth\":2},\"yaxis\":{\"backgroundcolor\":\"#E5ECF6\",\"gridcolor\":\"white\",\"linecolor\":\"white\",\"showbackground\":true,\"ticks\":\"\",\"zerolinecolor\":\"white\",\"gridwidth\":2},\"zaxis\":{\"backgroundcolor\":\"#E5ECF6\",\"gridcolor\":\"white\",\"linecolor\":\"white\",\"showbackground\":true,\"ticks\":\"\",\"zerolinecolor\":\"white\",\"gridwidth\":2}},\"shapedefaults\":{\"line\":{\"color\":\"#2a3f5f\"}},\"annotationdefaults\":{\"arrowcolor\":\"#2a3f5f\",\"arrowhead\":0,\"arrowwidth\":1},\"geo\":{\"bgcolor\":\"white\",\"landcolor\":\"#E5ECF6\",\"subunitcolor\":\"white\",\"showland\":true,\"showlakes\":true,\"lakecolor\":\"white\"},\"title\":{\"x\":0.05},\"mapbox\":{\"style\":\"light\"}}},\"title\":{\"text\":\"Profitability of Rides (Dynamic Pricing vs. Historical Pricing)\"}},                        {\"responsive\": true}                    ).then(function(){\n",
       "                            \n",
       "var gd = document.getElementById('149a3ceb-fb0a-4c11-ad43-e858e2acab50');\n",
       "var x = new MutationObserver(function (mutations, observer) {{\n",
       "        var display = window.getComputedStyle(gd).display;\n",
       "        if (!display || display === 'none') {{\n",
       "            console.log([gd, 'removed!']);\n",
       "            Plotly.purge(gd);\n",
       "            observer.disconnect();\n",
       "        }}\n",
       "}});\n",
       "\n",
       "// Listen for the removal of the full notebook cells\n",
       "var notebookContainer = gd.closest('#notebook-container');\n",
       "if (notebookContainer) {{\n",
       "    x.observe(notebookContainer, {childList: true});\n",
       "}}\n",
       "\n",
       "// Listen for the clearing of the current output cell\n",
       "var outputEl = gd.closest('.output');\n",
       "if (outputEl) {{\n",
       "    x.observe(outputEl, {childList: true});\n",
       "}}\n",
       "\n",
       "                        })                };                });            </script>        </div>"
      ]
     },
     "metadata": {},
     "output_type": "display_data"
    }
   ],
   "source": [
    "# Calculate the count of profitable and loss rides\n",
    "profitable_count = len(profitable_rides)\n",
    "loss_count = len(loss_rides)\n",
    "\n",
    "# Create a donut chart to show the distribution of profitable and loss rides\n",
    "labels = ['Profitable Rides', 'Loss Rides']\n",
    "values = [profitable_count, loss_count]\n",
    "\n",
    "fig = go.Figure(data=[go.Pie(labels=labels, values=values, hole=0.5)])\n",
    "fig.update_layout(title='Profitability of Rides (Dynamic Pricing vs. Historical Pricing)')\n",
    "fig.show()"
   ]
  },
  {
   "cell_type": "markdown",
   "id": "f21e3655-d836-43a6-82f3-6b430bc97f6d",
   "metadata": {},
   "source": [
    "### Training a Predictive Model\n",
    "\n"
   ]
  },
  {
   "cell_type": "code",
   "execution_count": 44,
   "id": "09628ce7-30e9-4e42-8dd9-bdbe1b4e597a",
   "metadata": {},
   "outputs": [],
   "source": [
    "from sklearn.preprocessing import StandardScaler\n",
    "\n",
    "def data_preprocessing_pipeline(data):\n",
    "    #Identify numeric and categorical features\n",
    "    num_f = data.select.dtypes(include=['float', 'int']).columns\n",
    "    cat_f = data.select.dtypes(include=['object']).columns\n",
    "\n",
    "    #Handle missing values in numerical features\n",
    "    data[num_f] = data[num_f].fillna(data[numf].mean())\n",
    "\n",
    "    #Detect and handle outliers in numerical features using IQR\n",
    "    for f in num_f:\n",
    "        Q1 = data[f].quantile(0.25)\n",
    "        Q3 = data[f].quantile(0.75)\n",
    "        IQR = Q3 - Q1\n",
    "        lower_bound = Q1 - (1.5 * IQR)\n",
    "        upper_bound = Q3 + (1.5 * IQR)\n",
    "        data[f] = np.where((data[f] < lower_bound) | (data[f] > upper_bound), data[f].mean(), data[f])\n",
    "\n",
    "    # Handle missing values in categorical features\n",
    "    data[cat_f] = data[cat_f].fillna(data[cat_f].mode().iloc[0])\n",
    "\n",
    "    return data"
   ]
  },
  {
   "cell_type": "code",
   "execution_count": 45,
   "id": "860e26ba-a824-4bcd-8bae-80789d6c6532",
   "metadata": {},
   "outputs": [],
   "source": [
    "# Encoding vehicle type\n",
    "data['Vehicle_Type'] = data['Vehicle_Type'].map({'Premium': 1, 'Economy':0})"
   ]
  },
  {
   "cell_type": "code",
   "execution_count": 46,
   "id": "aff12b45-05d7-4ecf-8485-1f78c6683227",
   "metadata": {},
   "outputs": [
    {
     "data": {
      "text/html": [
       "<style>#sk-container-id-1 {color: black;}#sk-container-id-1 pre{padding: 0;}#sk-container-id-1 div.sk-toggleable {background-color: white;}#sk-container-id-1 label.sk-toggleable__label {cursor: pointer;display: block;width: 100%;margin-bottom: 0;padding: 0.3em;box-sizing: border-box;text-align: center;}#sk-container-id-1 label.sk-toggleable__label-arrow:before {content: \"▸\";float: left;margin-right: 0.25em;color: #696969;}#sk-container-id-1 label.sk-toggleable__label-arrow:hover:before {color: black;}#sk-container-id-1 div.sk-estimator:hover label.sk-toggleable__label-arrow:before {color: black;}#sk-container-id-1 div.sk-toggleable__content {max-height: 0;max-width: 0;overflow: hidden;text-align: left;background-color: #f0f8ff;}#sk-container-id-1 div.sk-toggleable__content pre {margin: 0.2em;color: black;border-radius: 0.25em;background-color: #f0f8ff;}#sk-container-id-1 input.sk-toggleable__control:checked~div.sk-toggleable__content {max-height: 200px;max-width: 100%;overflow: auto;}#sk-container-id-1 input.sk-toggleable__control:checked~label.sk-toggleable__label-arrow:before {content: \"▾\";}#sk-container-id-1 div.sk-estimator input.sk-toggleable__control:checked~label.sk-toggleable__label {background-color: #d4ebff;}#sk-container-id-1 div.sk-label input.sk-toggleable__control:checked~label.sk-toggleable__label {background-color: #d4ebff;}#sk-container-id-1 input.sk-hidden--visually {border: 0;clip: rect(1px 1px 1px 1px);clip: rect(1px, 1px, 1px, 1px);height: 1px;margin: -1px;overflow: hidden;padding: 0;position: absolute;width: 1px;}#sk-container-id-1 div.sk-estimator {font-family: monospace;background-color: #f0f8ff;border: 1px dotted black;border-radius: 0.25em;box-sizing: border-box;margin-bottom: 0.5em;}#sk-container-id-1 div.sk-estimator:hover {background-color: #d4ebff;}#sk-container-id-1 div.sk-parallel-item::after {content: \"\";width: 100%;border-bottom: 1px solid gray;flex-grow: 1;}#sk-container-id-1 div.sk-label:hover label.sk-toggleable__label {background-color: #d4ebff;}#sk-container-id-1 div.sk-serial::before {content: \"\";position: absolute;border-left: 1px solid gray;box-sizing: border-box;top: 0;bottom: 0;left: 50%;z-index: 0;}#sk-container-id-1 div.sk-serial {display: flex;flex-direction: column;align-items: center;background-color: white;padding-right: 0.2em;padding-left: 0.2em;position: relative;}#sk-container-id-1 div.sk-item {position: relative;z-index: 1;}#sk-container-id-1 div.sk-parallel {display: flex;align-items: stretch;justify-content: center;background-color: white;position: relative;}#sk-container-id-1 div.sk-item::before, #sk-container-id-1 div.sk-parallel-item::before {content: \"\";position: absolute;border-left: 1px solid gray;box-sizing: border-box;top: 0;bottom: 0;left: 50%;z-index: -1;}#sk-container-id-1 div.sk-parallel-item {display: flex;flex-direction: column;z-index: 1;position: relative;background-color: white;}#sk-container-id-1 div.sk-parallel-item:first-child::after {align-self: flex-end;width: 50%;}#sk-container-id-1 div.sk-parallel-item:last-child::after {align-self: flex-start;width: 50%;}#sk-container-id-1 div.sk-parallel-item:only-child::after {width: 0;}#sk-container-id-1 div.sk-dashed-wrapped {border: 1px dashed gray;margin: 0 0.4em 0.5em 0.4em;box-sizing: border-box;padding-bottom: 0.4em;background-color: white;}#sk-container-id-1 div.sk-label label {font-family: monospace;font-weight: bold;display: inline-block;line-height: 1.2em;}#sk-container-id-1 div.sk-label-container {text-align: center;}#sk-container-id-1 div.sk-container {/* jupyter's `normalize.less` sets `[hidden] { display: none; }` but bootstrap.min.css set `[hidden] { display: none !important; }` so we also need the `!important` here to be able to override the default hidden behavior on the sphinx rendered scikit-learn.org. See: https://github.com/scikit-learn/scikit-learn/issues/21755 */display: inline-block !important;position: relative;}#sk-container-id-1 div.sk-text-repr-fallback {display: none;}</style><div id=\"sk-container-id-1\" class=\"sk-top-container\"><div class=\"sk-text-repr-fallback\"><pre>RandomForestRegressor()</pre><b>In a Jupyter environment, please rerun this cell to show the HTML representation or trust the notebook. <br />On GitHub, the HTML representation is unable to render, please try loading this page with nbviewer.org.</b></div><div class=\"sk-container\" hidden><div class=\"sk-item\"><div class=\"sk-estimator sk-toggleable\"><input class=\"sk-toggleable__control sk-hidden--visually\" id=\"sk-estimator-id-1\" type=\"checkbox\" checked><label for=\"sk-estimator-id-1\" class=\"sk-toggleable__label sk-toggleable__label-arrow\">RandomForestRegressor</label><div class=\"sk-toggleable__content\"><pre>RandomForestRegressor()</pre></div></div></div></div></div>"
      ],
      "text/plain": [
       "RandomForestRegressor()"
      ]
     },
     "execution_count": 46,
     "metadata": {},
     "output_type": "execute_result"
    }
   ],
   "source": [
    "# Splitting the data\n",
    "from sklearn.model_selection import train_test_split\n",
    "\n",
    "x = np.array(data[['Number_of_Riders', 'Number_of_Drivers', 'Vehicle_Type', 'Expected_Ride_Duration']])\n",
    "y = np.array(data[['adjusted_ride_cost']])\n",
    "\n",
    "x_train, x_test, y_train, y_test = train_test_split(x,y,test_size=0.2,random_state=42)\n",
    "\n",
    "\n",
    "#Reshape y to 1D array\n",
    "y_train = y_train.ravel()\n",
    "y_test = y_train.ravel()\n",
    "\n",
    "#Training a random forest regression model\n",
    "from sklearn.ensemble import RandomForestRegressor\n",
    "\n",
    "model = RandomForestRegressor()\n",
    "model.fit(x_train,y_train)"
   ]
  },
  {
   "cell_type": "markdown",
   "id": "214ddc7d-eadd-474e-bcf8-31bdd65962b2",
   "metadata": {},
   "source": [
    "## Testing the model"
   ]
  },
  {
   "cell_type": "code",
   "execution_count": 48,
   "id": "552abb7e-3879-49e6-9d5a-4fec9844c91f",
   "metadata": {},
   "outputs": [
    {
     "name": "stdout",
     "output_type": "stream",
     "text": [
      "[ 505.69091228  793.02860972  890.78014051  734.61178149  240.8785196\n",
      " 1056.33966237  309.87157848  204.26638852  500.0710369   212.09274703\n",
      "  634.31884263  381.529254    113.28136693 1545.86078023  385.76543946\n",
      "  750.65352535 1110.1085836   430.33182779  478.09374415  729.72777462\n",
      "  970.40047839  113.75360469  253.75758717  596.62305916  570.95455858\n",
      " 1348.82805518  232.6936661   968.69704664  477.53280513 1165.72651294\n",
      "  574.1048194   189.84898977  699.79227738  310.47159003 1032.88690837\n",
      "  547.10274945  392.74021704  279.1484114   389.67912819  307.15586592\n",
      " 1022.61801848 1335.72390186  934.49791332 1475.84844631 1343.40531781\n",
      "  489.67207251  762.90253036 1626.46419949  495.79782591 1249.98159652\n",
      " 1123.20388126  447.38609783  906.05529941  514.43482461  509.57336209\n",
      "  402.82443013  336.11801653 1593.23537022 1359.58008643  614.07202846\n",
      " 1194.75612876  871.25696287  847.47150357  937.98767925 1816.31197062\n",
      "  593.4100015   416.81297938  315.8526193   784.20953913  233.92053111\n",
      "  484.8693148   138.11985657  764.6604412  1275.82179193  330.57446776\n",
      "  515.47727404  314.86029671 2308.4127746  1360.4582225   930.72273883\n",
      "  758.48551885  717.00678921 2341.30972451  148.80565246  668.44877495\n",
      "  754.33367335  475.46389438   69.86797709  811.85030768 1194.47749962\n",
      "  857.99826621  224.28981992  496.62401292 1263.3969259   493.93018156\n",
      " 1300.45729941  790.54837508  402.50077299  596.47847683 1067.52183779\n",
      "  297.47806534  455.0329304   319.20547309  509.12599763  885.82498545\n",
      "  582.6956351   814.92651541  624.01086277  743.84410844  202.49120511\n",
      "  491.60917737  453.47046569 1556.92695775  201.33756402   57.24905219\n",
      "   92.03323244  273.28900523  565.7507555  1383.80523356  304.65568295\n",
      "  610.55251759  491.59754636  356.92392751  284.31735129 1240.69707921\n",
      "  192.87683268  663.37693306  660.83938597  568.59356233  261.91725162\n",
      "  937.28495977  676.52878192 1601.35310279  159.46831847  761.03208113\n",
      "  624.13446622  666.40928226  297.19299648 2538.96214534  806.11893609\n",
      "  866.01801559   59.92890267  914.77873935 1195.40545851  806.09903288\n",
      "  941.49740727 1159.54433476  436.33768168  517.74592393  466.58970794\n",
      "  589.18489124 1868.0751246   359.07361278  347.7310373   434.15963052\n",
      "  210.7139756   730.3252966  1141.62762636  508.88282684   41.23370691\n",
      " 1043.74008451 1051.15896578 1375.48886739  774.45037679  162.06489023\n",
      " 1370.11498779  845.57734666  895.52665065 1139.86492597  966.54285314\n",
      "  458.44107954  686.5635909   617.64733892  908.18782101  313.6445577\n",
      "  369.14390434  608.10475792  271.55266383   96.93197878  420.05295999\n",
      " 1117.77265418  214.61406398  455.45211235 1726.14079307 1021.44151063\n",
      "  874.29809065  242.82473193  168.79389294 1238.91252804  203.97711504\n",
      "  154.01348686  933.3028764  1110.9824694   740.9645775  1099.68749307\n",
      " 1372.53802461  422.2770262   781.42973795  900.76481826  288.61283388]\n"
     ]
    }
   ],
   "source": [
    "y_pred = model.predict(x_test)\n",
    "print(y_pred)"
   ]
  },
  {
   "cell_type": "code",
   "execution_count": 55,
   "id": "7806678d-2a8d-4962-9801-f20bb3f537b5",
   "metadata": {},
   "outputs": [
    {
     "data": {
      "application/vnd.plotly.v1+json": {
       "config": {
        "plotlyServerURL": "https://plot.ly"
       },
       "data": [
        {
         "mode": "markers",
         "name": "Actual vs Predicted",
         "type": "scatter",
         "x": [
          766.3434247203074,
          322.9162383089673,
          268.05334744077976,
          922.3904394713173,
          249.63623492502066,
          571.6204724599668,
          1149.7416124652589,
          766.5076659591515,
          412.9190772149552,
          584.559651439385,
          1095.523164387354,
          700.8253414588735,
          554.9546141594886,
          290.2221603348521,
          363.477313192748,
          894.55449305278,
          436.2883986066507,
          1037.5102324141135,
          265.14545076504606,
          378.94429224377063,
          568.2974554532283,
          121.4926576025523,
          65.7398626469571,
          1291.6659276481719,
          673.7314249541602,
          424.4786842449561,
          537.9600474018763,
          913.8033240837143,
          1861.3639174265438,
          543.4232429311767,
          1002.1434299700506,
          266.44484434106295,
          510.7821449117648,
          319.1167845059264,
          673.1441077743353,
          727.5819950034548,
          377.68331625075984,
          735.7803952080712,
          769.3140596565245,
          847.364902746671,
          701.1554522852574,
          411.7247635350234,
          614.8063510236848,
          618.6918844862269,
          875.870960726255,
          535.8702463582669,
          403.03586361736956,
          1293.1244563277914,
          469.77584012297297,
          270.32475679829986,
          1201.266878195153,
          1025.4896602919812,
          903.3096358529451,
          751.713349413907,
          435.4139313581861,
          1933.0118939046736,
          682.2078993599567,
          341.96910868546365,
          34.45486326401049,
          544.414227482705,
          109.23868545115876,
          1061.6615710295239,
          978.885809466427,
          71.88702592168664,
          897.0572689306687,
          521.417257084104,
          647.8076926890138,
          213.07845859666278,
          546.6621058309606,
          669.7689473096935,
          1730.3121813166058,
          732.5397162152774,
          923.7497989880915,
          831.2940562939754,
          1773.394371599337,
          768.0622267984248,
          400.4666504700486,
          379.87642976511614,
          1503.078164279382,
          401.41031929662057,
          94.15799671987205,
          553.6080531665352,
          779.6665640971811,
          1115.0181246281102,
          629.6856726017277,
          813.5369683558137,
          335.76693443120433,
          870.0145675687432,
          199.70401267215772,
          464.07229461062,
          120.47646237288549,
          1254.1473231722216,
          857.3373216170291,
          636.6210217068801,
          465.39782754074025,
          521.5726936417484,
          718.5986081524323,
          735.6158625594757,
          356.1363785500345,
          1177.953850128116,
          169.3919204654837,
          881.2269751831009,
          717.5818052783019,
          1192.8266416003335,
          457.2165440728306,
          525.7673018616365,
          183.08882824568374,
          122.50819527184164,
          904.4446265919906,
          497.78884903773985,
          600.5888569023807,
          1452.3786992431071,
          667.5832081153372,
          810.6689565853238,
          52.31195772193011,
          487.1334162183273,
          66.20679357179856,
          687.3514097371684,
          477.70016487655886,
          1169.6716291186494,
          1113.6356163335813,
          661.1699328546313,
          256.72848871670504,
          811.6748271364662,
          341.64404896544227,
          288.7179474760559,
          377.42997592372404,
          650.4973275633196,
          160.66491516083363,
          561.2544657396708,
          1047.4412396623916,
          1251.412803118133,
          589.3415427940682,
          1035.0709434080177,
          266.71052777361797,
          1741.9625039541834,
          560.0755722623477,
          587.7722831722007,
          383.0190619294396,
          982.8487572153987,
          1081.921859136315,
          705.1361473982286,
          775.0094373872723,
          1687.2678132088859,
          840.6550631189353,
          670.9491719693964,
          540.4581912307598,
          493.90780890496154,
          788.2490435261179,
          645.4964025811166,
          696.8503647442335,
          2810.4360678198705,
          317.5176050476412,
          822.1223938172129,
          1692.13095095078,
          760.3271362347658,
          486.2395475944297,
          147.78848164189668,
          718.8790732844609,
          79.02727828783786,
          284.4715963663454,
          645.097938754818,
          149.28039261959754,
          996.6447320323534,
          771.1927360322769,
          719.6992755745102,
          875.3782345937428,
          1346.8316566982057,
          255.95269065584546,
          236.62348009353263,
          242.33143351931253,
          819.037813454156,
          175.2013422219235,
          608.4550723856046,
          105.58526754547013,
          1042.6303268358824,
          174.08836346589166,
          515.2483613795903,
          465.1417779632678,
          152.41544077312489,
          1175.750574040162,
          882.2389988961318,
          146.13581716311668,
          97.59041987876296,
          285.14860105190974,
          1652.4935361526839,
          421.6682288688565,
          92.52036493618786,
          193.92240084319118,
          1793.0405410250269,
          1600.843876621693,
          232.77427965817355,
          85.21792566595082,
          1282.1986160170427,
          267.76931808439167,
          458.46639220359407,
          339.4724672948418,
          1166.68679706543,
          1013.2838825269702,
          317.3524078279172,
          565.5795208932337,
          376.56535181649883,
          287.5896653298694,
          284.97408927986106,
          348.7127685309847,
          267.44273178920696,
          74.81003227783599,
          83.85380803432835,
          869.6100074490832,
          226.97925824152577,
          251.79424107072936,
          353.1787685721484,
          156.27882396015312,
          450.9644704522177,
          544.7417560269099,
          380.31747817351743,
          592.930768622832,
          889.4477802172905,
          378.199384306169,
          231.49226099130635,
          168.28714084325318,
          406.6925387388446,
          557.2897998079019,
          442.3714653405537,
          443.62068303540445,
          831.6403637538427,
          761.7670702370147,
          425.10961557862106,
          764.5778008108027,
          500.0864395640777,
          90.79790621601323,
          470.8732193820051,
          502.00901430041813,
          333.111985146463,
          453.6061686871017,
          539.4517938901346,
          194.57198286798211,
          299.50569265382796,
          662.83259303235,
          74.66996314401598,
          458.26248297525234,
          335.5847588479032,
          620.0654541109922,
          376.29518740303695,
          377.44849625265846,
          90.59777096503944,
          142.10085737183698,
          103.74919289677925,
          2972.767154150117,
          425.11991813778724,
          200.60522059414524,
          655.4844007410987,
          563.9313425925883,
          793.9041793369503,
          237.368070332344,
          503.55915618880516,
          444.4327797567634,
          90.79739234181154,
          382.5914962823792,
          773.8163585062061,
          705.0897168862292,
          2345.5660676162215,
          1715.6552750787587,
          1285.7215885583805,
          638.9378834990245,
          306.7524381549867,
          832.6778562015356,
          182.46632143825187,
          406.90149638438805,
          345.8844376815454,
          598.6539380216728,
          655.1331797220643,
          1509.4176384937805,
          1110.830578147487,
          654.7466949129214,
          167.94019939703213,
          147.82730196839745,
          750.3885216032336,
          1489.5620235269967,
          56.398757537802666,
          1168.5288991566692,
          522.438152482389,
          622.4851570987876,
          88.94833062783744,
          332.31027039196124,
          929.4865660842263,
          508.48117933283214,
          1442.3478108223399,
          142.9462130010731,
          288.38656535873537,
          33.46430708694733,
          774.075075500148,
          732.5353049226045,
          529.444690186566,
          137.76267381786923,
          467.3941929607766,
          625.9966805717976,
          536.0877759089576,
          1369.4172439668696,
          591.2643060157994,
          404.3607507736992,
          769.2766595970312,
          481.18763020067354,
          378.93667219809834,
          1369.6060829352145,
          675.5867343117324,
          1379.4981527099455,
          456.26290503739295,
          1279.5833436546927,
          1222.468047652326,
          780.3939452114771,
          1134.2250634401544,
          302.0464610271645,
          1374.36008125883,
          396.2687842349887,
          918.3654915863816,
          341.18327578386555,
          702.6250057711064,
          806.196699146332,
          1716.5008898605333,
          341.93174868410074,
          739.2931358297891,
          392.26546017018615,
          73.43189843046373,
          516.0944814837553,
          396.5429208838206,
          2226.484898926929,
          1255.8397655076346,
          337.7247109712087,
          1777.9342414605303,
          798.2110861186316,
          955.4126270236385,
          1097.3252133225146,
          383.86095940857155,
          1942.0699084938815,
          486.0491156715058,
          900.0056284834086,
          380.64882467464474,
          561.5387176631922,
          1322.074455502724,
          487.0872938702142,
          1244.0961228587096,
          1087.6103894669918,
          462.29319365834357,
          164.1457671925275,
          157.53962641440575,
          467.63420485912906,
          545.2603733868274,
          177.94803920671518,
          1459.518609354651,
          593.7462830600011,
          335.6931199155514,
          1327.8860840884104,
          737.3083325435864,
          1011.6389617064051,
          182.5132974938025,
          1904.6895996951264,
          913.2526622969814,
          1082.0221828377175,
          1718.747823630607,
          257.273033838071,
          1021.9015646302992,
          380.25974250798475,
          214.76221172215725,
          573.7771328466191,
          96.15159085541123,
          223.56369249045716,
          1211.3701024166774,
          174.85898941607047,
          897.8747681917064,
          573.5882426051519,
          999.9713017636033,
          385.07763436826883,
          572.9819376735602,
          942.0481800357242,
          415.16824970218045,
          690.9786459776677,
          1439.4045478580233,
          729.1307738620366,
          442.35348348866745,
          236.27091779150828,
          481.42048154495563,
          1074.3074446312626,
          1798.4056636472963,
          560.9131779975504,
          271.38897074327014,
          797.3867590100084,
          406.9266990835751,
          358.1859037576156,
          604.2421794141037,
          762.4258261308931,
          665.0679335000618,
          704.0651051792969,
          839.5132170074644,
          295.3133326403338,
          558.3381842987117,
          673.6907679318126,
          1038.4658078208965,
          1214.1222015143048,
          645.391714518672,
          147.68823480636135,
          34.364507720794855,
          306.1068540861067,
          218.5519227963743,
          812.7927780443322,
          2100.7016630530675,
          404.3465936333318,
          160.01880218502436,
          853.3678572890556,
          2059.915487308754,
          350.31335737242193,
          556.5120995112038,
          230.24338269090023,
          611.3481477316873,
          838.7369016775668,
          1631.9681642410883,
          788.6569155779797,
          914.8351226626152,
          689.9113523119014,
          267.48564709432645,
          225.82270718510574,
          375.81141606123464,
          552.8829405178766,
          385.3632681512299,
          315.27699296736836,
          1262.914287118407,
          147.05230125359932,
          466.41773132227746,
          527.4694326896692,
          279.73962235221967,
          727.8444832701341,
          514.4403085694838,
          1526.518641347151,
          719.1592407591633,
          1162.08752803064,
          179.46234939115732,
          378.21972154182356,
          416.3543577743125,
          992.4403961476888,
          1001.4082944134772,
          1064.528880227803,
          653.3028940168451,
          1018.459423462358,
          258.1515850368966,
          672.9993993271248,
          736.2616104078397,
          625.6622180218543,
          378.0179230368381,
          210.1491731017745,
          322.5179476827188,
          342.28800544069355,
          345.4106558951307,
          586.6328726656449,
          820.7156316877526,
          312.0483856485931,
          2229.108192522133,
          183.76174467609567,
          891.1968956186502,
          503.50365993883577,
          707.4807064563845,
          1329.5488267366227,
          366.99521898016616,
          1122.796876014062,
          725.7455328110697,
          300.6683354640742,
          1728.7172438136174,
          225.30949793889243,
          1051.7571459666106,
          33.47378656745454,
          639.1355217775695,
          1350.0953682843622,
          107.32799830691589,
          522.282939435721,
          2760.0688756135696,
          307.06205161698506,
          490.0612323226063,
          464.3722324817913,
          1647.9865661994422,
          264.27625945831437,
          1169.8998445551304,
          1001.1318399690576,
          719.8121163952316,
          1021.0010342508643,
          2687.92924550872,
          338.99190293079073,
          364.9447574293597,
          247.95022091604233,
          381.0155132704477,
          1848.1218824708558,
          694.1016378612229,
          406.4701305949314,
          257.3618513608236,
          1109.5162851626503,
          541.8375336241756,
          895.1993835143437,
          551.3369340242419,
          719.4974990031574,
          410.0599925492633,
          152.54544393772136,
          66.81073687738196,
          532.9957438128347,
          1224.4730563450212,
          2544.2912275135964,
          916.254410566278,
          1463.8788984946393,
          1430.8487124732308,
          2376.5054248461815,
          131.34144313051505,
          797.7074650343819,
          450.96599805510925,
          1058.5245280529834,
          47.861816282269665,
          860.0172629965149,
          689.9685109098657,
          684.2873011032018,
          379.97743970994503,
          317.72169137246397,
          787.9898961153377,
          334.5472967658904,
          174.1328547269019,
          576.5712256223849,
          1335.8427973138143,
          970.9199763185844,
          738.8750949465929,
          1349.796601920023,
          563.1859170971533,
          896.9903394065369,
          303.03817074380237,
          356.3704278073457,
          407.28116832320035,
          747.8724179457216,
          895.0113323270739,
          479.0353483560821,
          858.5208201013913,
          373.2157808270797,
          306.60045696974476,
          393.59607333009996,
          1005.5830378547419,
          851.975664146233,
          162.72959868497392,
          973.9731011763574,
          354.6527260553368,
          609.4499968069301,
          582.6904553920984,
          379.9291975727271,
          286.4682790217032,
          1118.3944091314606,
          169.4893048252434,
          795.7491641363606,
          1091.413743067962,
          510.08463090447384,
          396.34133484941054,
          561.0468683348679,
          693.379479858469,
          732.2017391129019,
          676.2940123111571,
          683.975984445723,
          346.42763485411854,
          844.9557165199949,
          127.78840656492757,
          341.9139407929978,
          65.17880663629225,
          357.65642156686346,
          1051.9837190133708,
          706.3344912709499,
          742.0188876142681,
          856.9212691492716,
          196.91840419669822,
          975.3034353666775,
          545.5605745927319,
          320.91875631957214,
          69.47355129673358,
          389.462807895145,
          876.7375949873583,
          132.75557101417508,
          570.1060433418089,
          783.1196689796242,
          1517.9899921339631,
          871.6143315943475,
          1359.6496594892228,
          367.9340054637465,
          657.766400683832,
          1418.0443516735168,
          473.86443607596976,
          164.8175394215609,
          1605.787610863019,
          774.1368580888226,
          279.9975244146672,
          646.4792663682016,
          1081.6473833183154,
          295.8401979228418,
          730.4878827669243,
          591.0637556505028,
          890.1777543151399,
          523.4753672437433,
          825.3264970396013,
          786.1428320800359,
          420.37316749278256,
          1721.9378479523273,
          512.2477742887849,
          411.1171980924447,
          1044.5486112072542,
          1463.1994709215446,
          142.14841768303498,
          939.7292983439062,
          764.0481140913973,
          353.68394580339196,
          3321.9005109614272,
          299.6010178415583,
          411.448651176701,
          653.7944755003513,
          734.1679482724103,
          1395.0396909769456,
          1851.7208388748581,
          422.9049785498551,
          958.0673608992006,
          632.4402067963571,
          749.5185344974449,
          714.0339526919013,
          591.9534440136671,
          791.9533540866101,
          634.3686649707233,
          1023.0606771819596,
          1172.1144267225732,
          967.5814184432814,
          990.663843389045,
          585.3321358762487,
          845.511983070491,
          841.7634875418452,
          584.1681830994155,
          703.070583866699,
          1247.6081827540306,
          369.1490185608537,
          401.4976577512066,
          1952.4724271442476,
          1778.4011032615883,
          862.7957020437274,
          83.70428951943832,
          877.2414444708103,
          528.4950548023397,
          556.1008043167832,
          653.2171879757253,
          167.81318260323224,
          1159.7801870017347,
          112.5091294972914,
          385.17657981601667,
          453.470149214201,
          575.7803612679054,
          2206.9669184691666,
          549.154862446807,
          203.8774636900014,
          842.5054287705648,
          567.6481435594462,
          454.0248537315478,
          778.3398875255085,
          625.2234848208183,
          515.7437830345117,
          209.4566575890746,
          632.8701261622647,
          190.7812484033281,
          737.5384516773631,
          462.1887803612514,
          538.2099580719827,
          300.32461608877594,
          522.5557564890468,
          1048.4885455011145,
          311.42506816132834,
          1085.5246669614326,
          289.41426930380595,
          267.04780993661274,
          205.9857182102962,
          745.6658383886381,
          104.72482137583211,
          748.8601732394935,
          200.6248646923665,
          311.59401019194104,
          1053.3655060324197,
          1232.6705546567102,
          1505.866812505653,
          618.0600119253616,
          656.2728597813143,
          845.1682440137172,
          1259.637527758659,
          494.8827771664689,
          1220.1456763580497,
          167.79575718348556,
          410.164513040177,
          167.32096795724425,
          779.6458055364278,
          282.1844184255056,
          580.2374233061433,
          1206.2707572054783,
          204.85926086161288,
          272.537392511065,
          639.6628055887942,
          666.9686064868608,
          675.0828516338285,
          427.99535203402263,
          458.5594916329761,
          576.3754404222963,
          484.48280601981025,
          318.05187235291146,
          321.35407355498825,
          343.08187328833833,
          1081.4908340597508,
          1507.1102408539425,
          1011.1523488625131,
          498.2352504198045,
          64.8460903270231,
          794.8467230229943,
          48.60855105950391,
          606.8759180020231,
          242.43308077938894,
          499.73802179048954,
          1148.8864213220465,
          245.65381734595798,
          457.00241589725175,
          571.4414999628902,
          328.5466843363022,
          664.0657222545257,
          222.73437981047343,
          594.9920145770334,
          627.6909440230858,
          887.3713999888777,
          1123.9368651519712,
          520.2016642863007,
          690.7593306388821,
          432.85340438302484,
          2106.376268607298,
          697.9670727186095,
          585.6394709727539,
          436.70447744691165,
          400.5488210499124,
          138.72008730470125,
          422.1460982884892,
          233.4969713583007,
          3012.6511696830785,
          816.5545511885098,
          1464.3669274726988,
          183.50960134372986,
          293.53109654440726,
          1221.2491772764013,
          970.7791443226113,
          296.73594852140747,
          1027.7971545445828,
          536.484966846803,
          226.46249937318728,
          150.3873940548717,
          541.0189377391447,
          1095.242870697851,
          80.85397854064824,
          614.3635599044351,
          732.5697433584774,
          682.991860722847,
          123.25529034662495,
          598.7643926637202,
          833.0901802045254,
          154.02256464747822,
          279.7339161644737,
          812.9815580835061,
          667.6229446262826,
          345.0745725055105,
          783.1034682493564,
          1277.5175121412667,
          1183.6702146006014,
          51.256938044005246,
          325.1067959744827,
          588.6689441663152,
          598.1707856589401,
          1292.4895703132267,
          394.7162333352202,
          3059.851740499118,
          113.87153579603725,
          912.4878178727881,
          290.4832683216601,
          1033.5910961800053,
          1643.9407698407206,
          258.36665131809525,
          274.93770670924346,
          846.4200723606734,
          1528.221122765132,
          584.4630977046909,
          1133.4365102209229,
          142.2532913210872,
          975.2630491665248,
          481.2024606043001,
          406.89679662432695,
          617.0377806163355,
          509.93254753343916,
          791.7299076270131,
          582.8498172685421,
          648.8521446707304,
          82.84091893814548,
          847.5914450984527,
          55.95200422782469,
          192.2160344381136,
          1442.8479896927047,
          1032.9254352624532,
          117.21021953289556,
          812.3408477675779
         ],
         "y": [
          505.69091227863834,
          793.0286097174132,
          890.7801405148763,
          734.6117814941258,
          240.8785195961348,
          1056.3396623680187,
          309.8715784826948,
          204.26638851528526,
          500.0710368951428,
          212.09274702587666,
          634.3188426341086,
          381.52925400175394,
          113.28136693108036,
          1545.8607802297695,
          385.76543946035883,
          750.6535253524773,
          1110.1085836017373,
          430.3318277939446,
          478.09374415021887,
          729.7277746187896,
          970.4004783934934,
          113.75360469453726,
          253.7575871675556,
          596.6230591626853,
          570.9545585767256,
          1348.8280551790237,
          232.69366610479779,
          968.6970466410646,
          477.53280513026766,
          1165.726512937783,
          574.1048193997236,
          189.8489897723033,
          699.7922773754754,
          310.47159003434336,
          1032.886908368844,
          547.1027494493096,
          392.74021703637305,
          279.14841140355134,
          389.6791281868642,
          307.1558659152492,
          1022.6180184767916,
          1335.723901856615,
          934.4979133227952,
          1475.848446313559,
          1343.4053178104045,
          489.6720725060761,
          762.902530364829,
          1626.4641994892786,
          495.79782590792934,
          1249.9815965215298,
          1123.2038812576266,
          447.3860978297696,
          906.0552994061654,
          514.4348246118067,
          509.5733620863669,
          402.8244301316779,
          336.1180165251115,
          1593.2353702235953,
          1359.5800864298462,
          614.0720284628201,
          1194.7561287646197,
          871.2569628744366,
          847.4715035654102,
          937.9876792489081,
          1816.31197061625,
          593.4100014993996,
          416.81297938334427,
          315.8526192991994,
          784.2095391315654,
          233.920531105997,
          484.8693147964456,
          138.11985657266501,
          764.6604412037493,
          1275.821791930468,
          330.5744677556006,
          515.4772740449162,
          314.8602967084934,
          2308.412774599318,
          1360.4582224954313,
          930.7227388273942,
          758.485518853695,
          717.0067892071603,
          2341.3097245145414,
          148.80565246401926,
          668.4487749529909,
          754.3336733538974,
          475.46389438190073,
          69.86797709244088,
          811.8503076830344,
          1194.4774996210522,
          857.998266210344,
          224.28981992496534,
          496.62401292054847,
          1263.3969258951831,
          493.9301815636489,
          1300.4572994101206,
          790.5483750817866,
          402.50077299341086,
          596.4784768320535,
          1067.5218377940944,
          297.4780653397087,
          455.0329303988368,
          319.2054730898117,
          509.1259976334282,
          885.8249854515738,
          582.6956351039918,
          814.9265154077303,
          624.0108627735368,
          743.8441084434694,
          202.49120511026678,
          491.6091773704978,
          453.4704656903016,
          1556.9269577530308,
          201.33756401537474,
          57.24905219444685,
          92.03323244051695,
          273.28900523205726,
          565.7507554968067,
          1383.8052335592229,
          304.65568294859736,
          610.5525175946766,
          491.59754636140343,
          356.92392750664993,
          284.31735129087946,
          1240.6970792143454,
          192.87683267782515,
          663.3769330607222,
          660.8393859699604,
          568.5935623263944,
          261.9172516233605,
          937.2849597697839,
          676.5287819232758,
          1601.3531027852832,
          159.46831847322085,
          761.0320811301391,
          624.1344662200177,
          666.4092822576189,
          297.1929964787885,
          2538.962145338023,
          806.1189360879322,
          866.0180155922928,
          59.92890266553325,
          914.7787393470061,
          1195.405458507853,
          806.0990328782838,
          941.4974072680615,
          1159.5443347603014,
          436.33768167762764,
          517.7459239268702,
          466.5897079386108,
          589.1848912436325,
          1868.0751245978179,
          359.07361277956704,
          347.7310372976701,
          434.1596305178571,
          210.71397560169126,
          730.3252965953552,
          1141.627626362307,
          508.8828268384152,
          41.233706907186004,
          1043.740084505163,
          1051.1589657845993,
          1375.48886739415,
          774.4503767851334,
          162.06489023112923,
          1370.1149877899745,
          845.5773466601624,
          895.526650654312,
          1139.864925974504,
          966.5428531367703,
          458.4410795366393,
          686.5635908986097,
          617.6473389195871,
          908.1878210091485,
          313.64455769994817,
          369.14390433550875,
          608.1047579182028,
          271.5526638254669,
          96.93197878336973,
          420.05295998827575,
          1117.7726541768925,
          214.61406398091523,
          455.45211235359454,
          1726.140793068408,
          1021.4415106266239,
          874.2980906462249,
          242.8247319259169,
          168.79389294448995,
          1238.912528042479,
          203.977115039178,
          154.01348685804973,
          933.3028764046493,
          1110.9824693974404,
          740.9645774995485,
          1099.6874930701208,
          1372.5380246053046,
          422.27702619502054,
          781.4297379485715,
          900.7648182582805,
          288.6128338764106
         ]
        },
        {
         "line": {
          "color": "red",
          "dash": "dash"
         },
         "mode": "lines",
         "name": "Ideal",
         "type": "scatter",
         "x": [
          33.46430708694733,
          3321.9005109614272
         ],
         "y": [
          33.46430708694733,
          3321.9005109614272
         ]
        }
       ],
       "layout": {
        "autosize": true,
        "showlegend": true,
        "template": {
         "data": {
          "bar": [
           {
            "error_x": {
             "color": "#2a3f5f"
            },
            "error_y": {
             "color": "#2a3f5f"
            },
            "marker": {
             "line": {
              "color": "#E5ECF6",
              "width": 0.5
             },
             "pattern": {
              "fillmode": "overlay",
              "size": 10,
              "solidity": 0.2
             }
            },
            "type": "bar"
           }
          ],
          "barpolar": [
           {
            "marker": {
             "line": {
              "color": "#E5ECF6",
              "width": 0.5
             },
             "pattern": {
              "fillmode": "overlay",
              "size": 10,
              "solidity": 0.2
             }
            },
            "type": "barpolar"
           }
          ],
          "carpet": [
           {
            "aaxis": {
             "endlinecolor": "#2a3f5f",
             "gridcolor": "white",
             "linecolor": "white",
             "minorgridcolor": "white",
             "startlinecolor": "#2a3f5f"
            },
            "baxis": {
             "endlinecolor": "#2a3f5f",
             "gridcolor": "white",
             "linecolor": "white",
             "minorgridcolor": "white",
             "startlinecolor": "#2a3f5f"
            },
            "type": "carpet"
           }
          ],
          "choropleth": [
           {
            "colorbar": {
             "outlinewidth": 0,
             "ticks": ""
            },
            "type": "choropleth"
           }
          ],
          "contour": [
           {
            "colorbar": {
             "outlinewidth": 0,
             "ticks": ""
            },
            "colorscale": [
             [
              0,
              "#0d0887"
             ],
             [
              0.1111111111111111,
              "#46039f"
             ],
             [
              0.2222222222222222,
              "#7201a8"
             ],
             [
              0.3333333333333333,
              "#9c179e"
             ],
             [
              0.4444444444444444,
              "#bd3786"
             ],
             [
              0.5555555555555556,
              "#d8576b"
             ],
             [
              0.6666666666666666,
              "#ed7953"
             ],
             [
              0.7777777777777778,
              "#fb9f3a"
             ],
             [
              0.8888888888888888,
              "#fdca26"
             ],
             [
              1,
              "#f0f921"
             ]
            ],
            "type": "contour"
           }
          ],
          "contourcarpet": [
           {
            "colorbar": {
             "outlinewidth": 0,
             "ticks": ""
            },
            "type": "contourcarpet"
           }
          ],
          "heatmap": [
           {
            "colorbar": {
             "outlinewidth": 0,
             "ticks": ""
            },
            "colorscale": [
             [
              0,
              "#0d0887"
             ],
             [
              0.1111111111111111,
              "#46039f"
             ],
             [
              0.2222222222222222,
              "#7201a8"
             ],
             [
              0.3333333333333333,
              "#9c179e"
             ],
             [
              0.4444444444444444,
              "#bd3786"
             ],
             [
              0.5555555555555556,
              "#d8576b"
             ],
             [
              0.6666666666666666,
              "#ed7953"
             ],
             [
              0.7777777777777778,
              "#fb9f3a"
             ],
             [
              0.8888888888888888,
              "#fdca26"
             ],
             [
              1,
              "#f0f921"
             ]
            ],
            "type": "heatmap"
           }
          ],
          "heatmapgl": [
           {
            "colorbar": {
             "outlinewidth": 0,
             "ticks": ""
            },
            "colorscale": [
             [
              0,
              "#0d0887"
             ],
             [
              0.1111111111111111,
              "#46039f"
             ],
             [
              0.2222222222222222,
              "#7201a8"
             ],
             [
              0.3333333333333333,
              "#9c179e"
             ],
             [
              0.4444444444444444,
              "#bd3786"
             ],
             [
              0.5555555555555556,
              "#d8576b"
             ],
             [
              0.6666666666666666,
              "#ed7953"
             ],
             [
              0.7777777777777778,
              "#fb9f3a"
             ],
             [
              0.8888888888888888,
              "#fdca26"
             ],
             [
              1,
              "#f0f921"
             ]
            ],
            "type": "heatmapgl"
           }
          ],
          "histogram": [
           {
            "marker": {
             "pattern": {
              "fillmode": "overlay",
              "size": 10,
              "solidity": 0.2
             }
            },
            "type": "histogram"
           }
          ],
          "histogram2d": [
           {
            "colorbar": {
             "outlinewidth": 0,
             "ticks": ""
            },
            "colorscale": [
             [
              0,
              "#0d0887"
             ],
             [
              0.1111111111111111,
              "#46039f"
             ],
             [
              0.2222222222222222,
              "#7201a8"
             ],
             [
              0.3333333333333333,
              "#9c179e"
             ],
             [
              0.4444444444444444,
              "#bd3786"
             ],
             [
              0.5555555555555556,
              "#d8576b"
             ],
             [
              0.6666666666666666,
              "#ed7953"
             ],
             [
              0.7777777777777778,
              "#fb9f3a"
             ],
             [
              0.8888888888888888,
              "#fdca26"
             ],
             [
              1,
              "#f0f921"
             ]
            ],
            "type": "histogram2d"
           }
          ],
          "histogram2dcontour": [
           {
            "colorbar": {
             "outlinewidth": 0,
             "ticks": ""
            },
            "colorscale": [
             [
              0,
              "#0d0887"
             ],
             [
              0.1111111111111111,
              "#46039f"
             ],
             [
              0.2222222222222222,
              "#7201a8"
             ],
             [
              0.3333333333333333,
              "#9c179e"
             ],
             [
              0.4444444444444444,
              "#bd3786"
             ],
             [
              0.5555555555555556,
              "#d8576b"
             ],
             [
              0.6666666666666666,
              "#ed7953"
             ],
             [
              0.7777777777777778,
              "#fb9f3a"
             ],
             [
              0.8888888888888888,
              "#fdca26"
             ],
             [
              1,
              "#f0f921"
             ]
            ],
            "type": "histogram2dcontour"
           }
          ],
          "mesh3d": [
           {
            "colorbar": {
             "outlinewidth": 0,
             "ticks": ""
            },
            "type": "mesh3d"
           }
          ],
          "parcoords": [
           {
            "line": {
             "colorbar": {
              "outlinewidth": 0,
              "ticks": ""
             }
            },
            "type": "parcoords"
           }
          ],
          "pie": [
           {
            "automargin": true,
            "type": "pie"
           }
          ],
          "scatter": [
           {
            "fillpattern": {
             "fillmode": "overlay",
             "size": 10,
             "solidity": 0.2
            },
            "type": "scatter"
           }
          ],
          "scatter3d": [
           {
            "line": {
             "colorbar": {
              "outlinewidth": 0,
              "ticks": ""
             }
            },
            "marker": {
             "colorbar": {
              "outlinewidth": 0,
              "ticks": ""
             }
            },
            "type": "scatter3d"
           }
          ],
          "scattercarpet": [
           {
            "marker": {
             "colorbar": {
              "outlinewidth": 0,
              "ticks": ""
             }
            },
            "type": "scattercarpet"
           }
          ],
          "scattergeo": [
           {
            "marker": {
             "colorbar": {
              "outlinewidth": 0,
              "ticks": ""
             }
            },
            "type": "scattergeo"
           }
          ],
          "scattergl": [
           {
            "marker": {
             "colorbar": {
              "outlinewidth": 0,
              "ticks": ""
             }
            },
            "type": "scattergl"
           }
          ],
          "scattermapbox": [
           {
            "marker": {
             "colorbar": {
              "outlinewidth": 0,
              "ticks": ""
             }
            },
            "type": "scattermapbox"
           }
          ],
          "scatterpolar": [
           {
            "marker": {
             "colorbar": {
              "outlinewidth": 0,
              "ticks": ""
             }
            },
            "type": "scatterpolar"
           }
          ],
          "scatterpolargl": [
           {
            "marker": {
             "colorbar": {
              "outlinewidth": 0,
              "ticks": ""
             }
            },
            "type": "scatterpolargl"
           }
          ],
          "scatterternary": [
           {
            "marker": {
             "colorbar": {
              "outlinewidth": 0,
              "ticks": ""
             }
            },
            "type": "scatterternary"
           }
          ],
          "surface": [
           {
            "colorbar": {
             "outlinewidth": 0,
             "ticks": ""
            },
            "colorscale": [
             [
              0,
              "#0d0887"
             ],
             [
              0.1111111111111111,
              "#46039f"
             ],
             [
              0.2222222222222222,
              "#7201a8"
             ],
             [
              0.3333333333333333,
              "#9c179e"
             ],
             [
              0.4444444444444444,
              "#bd3786"
             ],
             [
              0.5555555555555556,
              "#d8576b"
             ],
             [
              0.6666666666666666,
              "#ed7953"
             ],
             [
              0.7777777777777778,
              "#fb9f3a"
             ],
             [
              0.8888888888888888,
              "#fdca26"
             ],
             [
              1,
              "#f0f921"
             ]
            ],
            "type": "surface"
           }
          ],
          "table": [
           {
            "cells": {
             "fill": {
              "color": "#EBF0F8"
             },
             "line": {
              "color": "white"
             }
            },
            "header": {
             "fill": {
              "color": "#C8D4E3"
             },
             "line": {
              "color": "white"
             }
            },
            "type": "table"
           }
          ]
         },
         "layout": {
          "annotationdefaults": {
           "arrowcolor": "#2a3f5f",
           "arrowhead": 0,
           "arrowwidth": 1
          },
          "autotypenumbers": "strict",
          "coloraxis": {
           "colorbar": {
            "outlinewidth": 0,
            "ticks": ""
           }
          },
          "colorscale": {
           "diverging": [
            [
             0,
             "#8e0152"
            ],
            [
             0.1,
             "#c51b7d"
            ],
            [
             0.2,
             "#de77ae"
            ],
            [
             0.3,
             "#f1b6da"
            ],
            [
             0.4,
             "#fde0ef"
            ],
            [
             0.5,
             "#f7f7f7"
            ],
            [
             0.6,
             "#e6f5d0"
            ],
            [
             0.7,
             "#b8e186"
            ],
            [
             0.8,
             "#7fbc41"
            ],
            [
             0.9,
             "#4d9221"
            ],
            [
             1,
             "#276419"
            ]
           ],
           "sequential": [
            [
             0,
             "#0d0887"
            ],
            [
             0.1111111111111111,
             "#46039f"
            ],
            [
             0.2222222222222222,
             "#7201a8"
            ],
            [
             0.3333333333333333,
             "#9c179e"
            ],
            [
             0.4444444444444444,
             "#bd3786"
            ],
            [
             0.5555555555555556,
             "#d8576b"
            ],
            [
             0.6666666666666666,
             "#ed7953"
            ],
            [
             0.7777777777777778,
             "#fb9f3a"
            ],
            [
             0.8888888888888888,
             "#fdca26"
            ],
            [
             1,
             "#f0f921"
            ]
           ],
           "sequentialminus": [
            [
             0,
             "#0d0887"
            ],
            [
             0.1111111111111111,
             "#46039f"
            ],
            [
             0.2222222222222222,
             "#7201a8"
            ],
            [
             0.3333333333333333,
             "#9c179e"
            ],
            [
             0.4444444444444444,
             "#bd3786"
            ],
            [
             0.5555555555555556,
             "#d8576b"
            ],
            [
             0.6666666666666666,
             "#ed7953"
            ],
            [
             0.7777777777777778,
             "#fb9f3a"
            ],
            [
             0.8888888888888888,
             "#fdca26"
            ],
            [
             1,
             "#f0f921"
            ]
           ]
          },
          "colorway": [
           "#636efa",
           "#EF553B",
           "#00cc96",
           "#ab63fa",
           "#FFA15A",
           "#19d3f3",
           "#FF6692",
           "#B6E880",
           "#FF97FF",
           "#FECB52"
          ],
          "font": {
           "color": "#2a3f5f"
          },
          "geo": {
           "bgcolor": "white",
           "lakecolor": "white",
           "landcolor": "#E5ECF6",
           "showlakes": true,
           "showland": true,
           "subunitcolor": "white"
          },
          "hoverlabel": {
           "align": "left"
          },
          "hovermode": "closest",
          "mapbox": {
           "style": "light"
          },
          "paper_bgcolor": "white",
          "plot_bgcolor": "#E5ECF6",
          "polar": {
           "angularaxis": {
            "gridcolor": "white",
            "linecolor": "white",
            "ticks": ""
           },
           "bgcolor": "#E5ECF6",
           "radialaxis": {
            "gridcolor": "white",
            "linecolor": "white",
            "ticks": ""
           }
          },
          "scene": {
           "xaxis": {
            "backgroundcolor": "#E5ECF6",
            "gridcolor": "white",
            "gridwidth": 2,
            "linecolor": "white",
            "showbackground": true,
            "ticks": "",
            "zerolinecolor": "white"
           },
           "yaxis": {
            "backgroundcolor": "#E5ECF6",
            "gridcolor": "white",
            "gridwidth": 2,
            "linecolor": "white",
            "showbackground": true,
            "ticks": "",
            "zerolinecolor": "white"
           },
           "zaxis": {
            "backgroundcolor": "#E5ECF6",
            "gridcolor": "white",
            "gridwidth": 2,
            "linecolor": "white",
            "showbackground": true,
            "ticks": "",
            "zerolinecolor": "white"
           }
          },
          "shapedefaults": {
           "line": {
            "color": "#2a3f5f"
           }
          },
          "ternary": {
           "aaxis": {
            "gridcolor": "white",
            "linecolor": "white",
            "ticks": ""
           },
           "baxis": {
            "gridcolor": "white",
            "linecolor": "white",
            "ticks": ""
           },
           "bgcolor": "#E5ECF6",
           "caxis": {
            "gridcolor": "white",
            "linecolor": "white",
            "ticks": ""
           }
          },
          "title": {
           "x": 0.05
          },
          "xaxis": {
           "automargin": true,
           "gridcolor": "white",
           "linecolor": "white",
           "ticks": "",
           "title": {
            "standoff": 15
           },
           "zerolinecolor": "white",
           "zerolinewidth": 2
          },
          "yaxis": {
           "automargin": true,
           "gridcolor": "white",
           "linecolor": "white",
           "ticks": "",
           "title": {
            "standoff": 15
           },
           "zerolinecolor": "white",
           "zerolinewidth": 2
          }
         }
        },
        "title": {
         "text": "Actual vs Predicted Values"
        },
        "xaxis": {
         "autorange": true,
         "range": [
          -167.38342286640713,
          3321.9005109614272
         ],
         "title": {
          "text": "Actual Values"
         },
         "type": "linear"
        },
        "yaxis": {
         "autorange": true,
         "range": [
          -223.08541948580978,
          3508.4787178270713
         ],
         "title": {
          "text": "Predicted Values"
         },
         "type": "linear"
        }
       }
      },
      "text/html": [
       "<div>                            <div id=\"615a1489-0457-4403-9b69-04d8928dd6e4\" class=\"plotly-graph-div\" style=\"height:525px; width:100%;\"></div>            <script type=\"text/javascript\">                require([\"plotly\"], function(Plotly) {                    window.PLOTLYENV=window.PLOTLYENV || {};                                    if (document.getElementById(\"615a1489-0457-4403-9b69-04d8928dd6e4\")) {                    Plotly.newPlot(                        \"615a1489-0457-4403-9b69-04d8928dd6e4\",                        [{\"mode\":\"markers\",\"name\":\"Actual vs Predicted\",\"x\":[766.3434247203074,322.9162383089673,268.05334744077976,922.3904394713173,249.63623492502066,571.6204724599668,1149.7416124652589,766.5076659591515,412.9190772149552,584.559651439385,1095.523164387354,700.8253414588735,554.9546141594886,290.2221603348521,363.477313192748,894.55449305278,436.2883986066507,1037.5102324141135,265.14545076504606,378.94429224377063,568.2974554532283,121.4926576025523,65.7398626469571,1291.6659276481719,673.7314249541602,424.4786842449561,537.9600474018763,913.8033240837143,1861.3639174265438,543.4232429311767,1002.1434299700506,266.44484434106295,510.7821449117648,319.1167845059264,673.1441077743353,727.5819950034548,377.68331625075984,735.7803952080712,769.3140596565245,847.364902746671,701.1554522852574,411.7247635350234,614.8063510236848,618.6918844862269,875.870960726255,535.8702463582669,403.03586361736956,1293.1244563277914,469.77584012297297,270.32475679829986,1201.266878195153,1025.4896602919812,903.3096358529451,751.713349413907,435.4139313581861,1933.0118939046736,682.2078993599567,341.96910868546365,34.45486326401049,544.414227482705,109.23868545115876,1061.6615710295239,978.885809466427,71.88702592168664,897.0572689306687,521.417257084104,647.8076926890138,213.07845859666278,546.6621058309606,669.7689473096935,1730.3121813166058,732.5397162152774,923.7497989880915,831.2940562939754,1773.394371599337,768.0622267984248,400.4666504700486,379.87642976511614,1503.078164279382,401.41031929662057,94.15799671987205,553.6080531665352,779.6665640971811,1115.0181246281102,629.6856726017277,813.5369683558137,335.76693443120433,870.0145675687432,199.70401267215772,464.07229461062,120.47646237288549,1254.1473231722216,857.3373216170291,636.6210217068801,465.39782754074025,521.5726936417484,718.5986081524323,735.6158625594757,356.1363785500345,1177.953850128116,169.3919204654837,881.2269751831009,717.5818052783019,1192.8266416003335,457.2165440728306,525.7673018616365,183.08882824568374,122.50819527184164,904.4446265919906,497.78884903773985,600.5888569023807,1452.3786992431071,667.5832081153372,810.6689565853238,52.31195772193011,487.1334162183273,66.20679357179856,687.3514097371684,477.70016487655886,1169.6716291186494,1113.6356163335813,661.1699328546313,256.72848871670504,811.6748271364662,341.64404896544227,288.7179474760559,377.42997592372404,650.4973275633196,160.66491516083363,561.2544657396708,1047.4412396623916,1251.412803118133,589.3415427940682,1035.0709434080177,266.71052777361797,1741.9625039541834,560.0755722623477,587.7722831722007,383.0190619294396,982.8487572153987,1081.921859136315,705.1361473982286,775.0094373872723,1687.2678132088859,840.6550631189353,670.9491719693964,540.4581912307598,493.90780890496154,788.2490435261179,645.4964025811166,696.8503647442335,2810.4360678198705,317.5176050476412,822.1223938172129,1692.13095095078,760.3271362347658,486.2395475944297,147.78848164189668,718.8790732844609,79.02727828783786,284.4715963663454,645.097938754818,149.28039261959754,996.6447320323534,771.1927360322769,719.6992755745102,875.3782345937428,1346.8316566982057,255.95269065584546,236.62348009353263,242.33143351931253,819.037813454156,175.2013422219235,608.4550723856046,105.58526754547013,1042.6303268358824,174.08836346589166,515.2483613795903,465.1417779632678,152.41544077312489,1175.750574040162,882.2389988961318,146.13581716311668,97.59041987876296,285.14860105190974,1652.4935361526839,421.6682288688565,92.52036493618786,193.92240084319118,1793.0405410250269,1600.843876621693,232.77427965817355,85.21792566595082,1282.1986160170427,267.76931808439167,458.46639220359407,339.4724672948418,1166.68679706543,1013.2838825269702,317.3524078279172,565.5795208932337,376.56535181649883,287.5896653298694,284.97408927986106,348.7127685309847,267.44273178920696,74.81003227783599,83.85380803432835,869.6100074490832,226.97925824152577,251.79424107072936,353.1787685721484,156.27882396015312,450.9644704522177,544.7417560269099,380.31747817351743,592.930768622832,889.4477802172905,378.199384306169,231.49226099130635,168.28714084325318,406.6925387388446,557.2897998079019,442.3714653405537,443.62068303540445,831.6403637538427,761.7670702370147,425.10961557862106,764.5778008108027,500.0864395640777,90.79790621601323,470.8732193820051,502.00901430041813,333.111985146463,453.6061686871017,539.4517938901346,194.57198286798211,299.50569265382796,662.83259303235,74.66996314401598,458.26248297525234,335.5847588479032,620.0654541109922,376.29518740303695,377.44849625265846,90.59777096503944,142.10085737183698,103.74919289677925,2972.767154150117,425.11991813778724,200.60522059414524,655.4844007410987,563.9313425925883,793.9041793369503,237.368070332344,503.55915618880516,444.4327797567634,90.79739234181154,382.5914962823792,773.8163585062061,705.0897168862292,2345.5660676162215,1715.6552750787587,1285.7215885583805,638.9378834990245,306.7524381549867,832.6778562015356,182.46632143825187,406.90149638438805,345.8844376815454,598.6539380216728,655.1331797220643,1509.4176384937805,1110.830578147487,654.7466949129214,167.94019939703213,147.82730196839745,750.3885216032336,1489.5620235269967,56.398757537802666,1168.5288991566692,522.438152482389,622.4851570987876,88.94833062783744,332.31027039196124,929.4865660842263,508.48117933283214,1442.3478108223399,142.9462130010731,288.38656535873537,33.46430708694733,774.075075500148,732.5353049226045,529.444690186566,137.76267381786923,467.3941929607766,625.9966805717976,536.0877759089576,1369.4172439668696,591.2643060157994,404.3607507736992,769.2766595970312,481.18763020067354,378.93667219809834,1369.6060829352145,675.5867343117324,1379.4981527099455,456.26290503739295,1279.5833436546927,1222.468047652326,780.3939452114771,1134.2250634401544,302.0464610271645,1374.36008125883,396.2687842349887,918.3654915863816,341.18327578386555,702.6250057711064,806.196699146332,1716.5008898605333,341.93174868410074,739.2931358297891,392.26546017018615,73.43189843046373,516.0944814837553,396.5429208838206,2226.484898926929,1255.8397655076346,337.7247109712087,1777.9342414605303,798.2110861186316,955.4126270236385,1097.3252133225146,383.86095940857155,1942.0699084938815,486.0491156715058,900.0056284834086,380.64882467464474,561.5387176631922,1322.074455502724,487.0872938702142,1244.0961228587096,1087.6103894669918,462.29319365834357,164.1457671925275,157.53962641440575,467.63420485912906,545.2603733868274,177.94803920671518,1459.518609354651,593.7462830600011,335.6931199155514,1327.8860840884104,737.3083325435864,1011.6389617064051,182.5132974938025,1904.6895996951264,913.2526622969814,1082.0221828377175,1718.747823630607,257.273033838071,1021.9015646302992,380.25974250798475,214.76221172215725,573.7771328466191,96.15159085541123,223.56369249045716,1211.3701024166774,174.85898941607047,897.8747681917064,573.5882426051519,999.9713017636033,385.07763436826883,572.9819376735602,942.0481800357242,415.16824970218045,690.9786459776677,1439.4045478580233,729.1307738620366,442.35348348866745,236.27091779150828,481.42048154495563,1074.3074446312626,1798.4056636472963,560.9131779975504,271.38897074327014,797.3867590100084,406.9266990835751,358.1859037576156,604.2421794141037,762.4258261308931,665.0679335000618,704.0651051792969,839.5132170074644,295.3133326403338,558.3381842987117,673.6907679318126,1038.4658078208965,1214.1222015143048,645.391714518672,147.68823480636135,34.364507720794855,306.1068540861067,218.5519227963743,812.7927780443322,2100.7016630530675,404.3465936333318,160.01880218502436,853.3678572890556,2059.915487308754,350.31335737242193,556.5120995112038,230.24338269090023,611.3481477316873,838.7369016775668,1631.9681642410883,788.6569155779797,914.8351226626152,689.9113523119014,267.48564709432645,225.82270718510574,375.81141606123464,552.8829405178766,385.3632681512299,315.27699296736836,1262.914287118407,147.05230125359932,466.41773132227746,527.4694326896692,279.73962235221967,727.8444832701341,514.4403085694838,1526.518641347151,719.1592407591633,1162.08752803064,179.46234939115732,378.21972154182356,416.3543577743125,992.4403961476888,1001.4082944134772,1064.528880227803,653.3028940168451,1018.459423462358,258.1515850368966,672.9993993271248,736.2616104078397,625.6622180218543,378.0179230368381,210.1491731017745,322.5179476827188,342.28800544069355,345.4106558951307,586.6328726656449,820.7156316877526,312.0483856485931,2229.108192522133,183.76174467609567,891.1968956186502,503.50365993883577,707.4807064563845,1329.5488267366227,366.99521898016616,1122.796876014062,725.7455328110697,300.6683354640742,1728.7172438136174,225.30949793889243,1051.7571459666106,33.47378656745454,639.1355217775695,1350.0953682843622,107.32799830691589,522.282939435721,2760.0688756135696,307.06205161698506,490.0612323226063,464.3722324817913,1647.9865661994422,264.27625945831437,1169.8998445551304,1001.1318399690576,719.8121163952316,1021.0010342508643,2687.92924550872,338.99190293079073,364.9447574293597,247.95022091604233,381.0155132704477,1848.1218824708558,694.1016378612229,406.4701305949314,257.3618513608236,1109.5162851626503,541.8375336241756,895.1993835143437,551.3369340242419,719.4974990031574,410.0599925492633,152.54544393772136,66.81073687738196,532.9957438128347,1224.4730563450212,2544.2912275135964,916.254410566278,1463.8788984946393,1430.8487124732308,2376.5054248461815,131.34144313051505,797.7074650343819,450.96599805510925,1058.5245280529834,47.861816282269665,860.0172629965149,689.9685109098657,684.2873011032018,379.97743970994503,317.72169137246397,787.9898961153377,334.5472967658904,174.1328547269019,576.5712256223849,1335.8427973138143,970.9199763185844,738.8750949465929,1349.796601920023,563.1859170971533,896.9903394065369,303.03817074380237,356.3704278073457,407.28116832320035,747.8724179457216,895.0113323270739,479.0353483560821,858.5208201013913,373.2157808270797,306.60045696974476,393.59607333009996,1005.5830378547419,851.975664146233,162.72959868497392,973.9731011763574,354.6527260553368,609.4499968069301,582.6904553920984,379.9291975727271,286.4682790217032,1118.3944091314606,169.4893048252434,795.7491641363606,1091.413743067962,510.08463090447384,396.34133484941054,561.0468683348679,693.379479858469,732.2017391129019,676.2940123111571,683.975984445723,346.42763485411854,844.9557165199949,127.78840656492757,341.9139407929978,65.17880663629225,357.65642156686346,1051.9837190133708,706.3344912709499,742.0188876142681,856.9212691492716,196.91840419669822,975.3034353666775,545.5605745927319,320.91875631957214,69.47355129673358,389.462807895145,876.7375949873583,132.75557101417508,570.1060433418089,783.1196689796242,1517.9899921339631,871.6143315943475,1359.6496594892228,367.9340054637465,657.766400683832,1418.0443516735168,473.86443607596976,164.8175394215609,1605.787610863019,774.1368580888226,279.9975244146672,646.4792663682016,1081.6473833183154,295.8401979228418,730.4878827669243,591.0637556505028,890.1777543151399,523.4753672437433,825.3264970396013,786.1428320800359,420.37316749278256,1721.9378479523273,512.2477742887849,411.1171980924447,1044.5486112072542,1463.1994709215446,142.14841768303498,939.7292983439062,764.0481140913973,353.68394580339196,3321.9005109614272,299.6010178415583,411.448651176701,653.7944755003513,734.1679482724103,1395.0396909769456,1851.7208388748581,422.9049785498551,958.0673608992006,632.4402067963571,749.5185344974449,714.0339526919013,591.9534440136671,791.9533540866101,634.3686649707233,1023.0606771819596,1172.1144267225732,967.5814184432814,990.663843389045,585.3321358762487,845.511983070491,841.7634875418452,584.1681830994155,703.070583866699,1247.6081827540306,369.1490185608537,401.4976577512066,1952.4724271442476,1778.4011032615883,862.7957020437274,83.70428951943832,877.2414444708103,528.4950548023397,556.1008043167832,653.2171879757253,167.81318260323224,1159.7801870017347,112.5091294972914,385.17657981601667,453.470149214201,575.7803612679054,2206.9669184691666,549.154862446807,203.8774636900014,842.5054287705648,567.6481435594462,454.0248537315478,778.3398875255085,625.2234848208183,515.7437830345117,209.4566575890746,632.8701261622647,190.7812484033281,737.5384516773631,462.1887803612514,538.2099580719827,300.32461608877594,522.5557564890468,1048.4885455011145,311.42506816132834,1085.5246669614326,289.41426930380595,267.04780993661274,205.9857182102962,745.6658383886381,104.72482137583211,748.8601732394935,200.6248646923665,311.59401019194104,1053.3655060324197,1232.6705546567102,1505.866812505653,618.0600119253616,656.2728597813143,845.1682440137172,1259.637527758659,494.8827771664689,1220.1456763580497,167.79575718348556,410.164513040177,167.32096795724425,779.6458055364278,282.1844184255056,580.2374233061433,1206.2707572054783,204.85926086161288,272.537392511065,639.6628055887942,666.9686064868608,675.0828516338285,427.99535203402263,458.5594916329761,576.3754404222963,484.48280601981025,318.05187235291146,321.35407355498825,343.08187328833833,1081.4908340597508,1507.1102408539425,1011.1523488625131,498.2352504198045,64.8460903270231,794.8467230229943,48.60855105950391,606.8759180020231,242.43308077938894,499.73802179048954,1148.8864213220465,245.65381734595798,457.00241589725175,571.4414999628902,328.5466843363022,664.0657222545257,222.73437981047343,594.9920145770334,627.6909440230858,887.3713999888777,1123.9368651519712,520.2016642863007,690.7593306388821,432.85340438302484,2106.376268607298,697.9670727186095,585.6394709727539,436.70447744691165,400.5488210499124,138.72008730470125,422.1460982884892,233.4969713583007,3012.6511696830785,816.5545511885098,1464.3669274726988,183.50960134372986,293.53109654440726,1221.2491772764013,970.7791443226113,296.73594852140747,1027.7971545445828,536.484966846803,226.46249937318728,150.3873940548717,541.0189377391447,1095.242870697851,80.85397854064824,614.3635599044351,732.5697433584774,682.991860722847,123.25529034662495,598.7643926637202,833.0901802045254,154.02256464747822,279.7339161644737,812.9815580835061,667.6229446262826,345.0745725055105,783.1034682493564,1277.5175121412667,1183.6702146006014,51.256938044005246,325.1067959744827,588.6689441663152,598.1707856589401,1292.4895703132267,394.7162333352202,3059.851740499118,113.87153579603725,912.4878178727881,290.4832683216601,1033.5910961800053,1643.9407698407206,258.36665131809525,274.93770670924346,846.4200723606734,1528.221122765132,584.4630977046909,1133.4365102209229,142.2532913210872,975.2630491665248,481.2024606043001,406.89679662432695,617.0377806163355,509.93254753343916,791.7299076270131,582.8498172685421,648.8521446707304,82.84091893814548,847.5914450984527,55.95200422782469,192.2160344381136,1442.8479896927047,1032.9254352624532,117.21021953289556,812.3408477675779],\"y\":[505.69091227863834,793.0286097174132,890.7801405148763,734.6117814941258,240.8785195961348,1056.3396623680187,309.8715784826948,204.26638851528526,500.0710368951428,212.09274702587666,634.3188426341086,381.52925400175394,113.28136693108036,1545.8607802297695,385.76543946035883,750.6535253524773,1110.1085836017373,430.3318277939446,478.09374415021887,729.7277746187896,970.4004783934934,113.75360469453726,253.7575871675556,596.6230591626853,570.9545585767256,1348.8280551790237,232.69366610479779,968.6970466410646,477.53280513026766,1165.726512937783,574.1048193997236,189.8489897723033,699.7922773754754,310.47159003434336,1032.886908368844,547.1027494493096,392.74021703637305,279.14841140355134,389.6791281868642,307.1558659152492,1022.6180184767916,1335.723901856615,934.4979133227952,1475.848446313559,1343.4053178104045,489.6720725060761,762.902530364829,1626.4641994892786,495.79782590792934,1249.9815965215298,1123.2038812576266,447.3860978297696,906.0552994061654,514.4348246118067,509.5733620863669,402.8244301316779,336.1180165251115,1593.2353702235953,1359.5800864298462,614.0720284628201,1194.7561287646197,871.2569628744366,847.4715035654102,937.9876792489081,1816.31197061625,593.4100014993996,416.81297938334427,315.8526192991994,784.2095391315654,233.920531105997,484.8693147964456,138.11985657266501,764.6604412037493,1275.821791930468,330.5744677556006,515.4772740449162,314.8602967084934,2308.412774599318,1360.4582224954313,930.7227388273942,758.485518853695,717.0067892071603,2341.3097245145414,148.80565246401926,668.4487749529909,754.3336733538974,475.46389438190073,69.86797709244088,811.8503076830344,1194.4774996210522,857.998266210344,224.28981992496534,496.62401292054847,1263.3969258951831,493.9301815636489,1300.4572994101206,790.5483750817866,402.50077299341086,596.4784768320535,1067.5218377940944,297.4780653397087,455.0329303988368,319.2054730898117,509.1259976334282,885.8249854515738,582.6956351039918,814.9265154077303,624.0108627735368,743.8441084434694,202.49120511026678,491.6091773704978,453.4704656903016,1556.9269577530308,201.33756401537474,57.24905219444685,92.03323244051695,273.28900523205726,565.7507554968067,1383.8052335592229,304.65568294859736,610.5525175946766,491.59754636140343,356.92392750664993,284.31735129087946,1240.6970792143454,192.87683267782515,663.3769330607222,660.8393859699604,568.5935623263944,261.9172516233605,937.2849597697839,676.5287819232758,1601.3531027852832,159.46831847322085,761.0320811301391,624.1344662200177,666.4092822576189,297.1929964787885,2538.962145338023,806.1189360879322,866.0180155922928,59.92890266553325,914.7787393470061,1195.405458507853,806.0990328782838,941.4974072680615,1159.5443347603014,436.33768167762764,517.7459239268702,466.5897079386108,589.1848912436325,1868.0751245978179,359.07361277956704,347.7310372976701,434.1596305178571,210.71397560169126,730.3252965953552,1141.627626362307,508.8828268384152,41.233706907186004,1043.740084505163,1051.1589657845993,1375.48886739415,774.4503767851334,162.06489023112923,1370.1149877899745,845.5773466601624,895.526650654312,1139.864925974504,966.5428531367703,458.4410795366393,686.5635908986097,617.6473389195871,908.1878210091485,313.64455769994817,369.14390433550875,608.1047579182028,271.5526638254669,96.93197878336973,420.05295998827575,1117.7726541768925,214.61406398091523,455.45211235359454,1726.140793068408,1021.4415106266239,874.2980906462249,242.8247319259169,168.79389294448995,1238.912528042479,203.977115039178,154.01348685804973,933.3028764046493,1110.9824693974404,740.9645774995485,1099.6874930701208,1372.5380246053046,422.27702619502054,781.4297379485715,900.7648182582805,288.6128338764106],\"type\":\"scatter\"},{\"line\":{\"color\":\"red\",\"dash\":\"dash\"},\"mode\":\"lines\",\"name\":\"Ideal\",\"x\":[33.46430708694733,3321.9005109614272],\"y\":[33.46430708694733,3321.9005109614272],\"type\":\"scatter\"}],                        {\"template\":{\"data\":{\"histogram2dcontour\":[{\"type\":\"histogram2dcontour\",\"colorbar\":{\"outlinewidth\":0,\"ticks\":\"\"},\"colorscale\":[[0.0,\"#0d0887\"],[0.1111111111111111,\"#46039f\"],[0.2222222222222222,\"#7201a8\"],[0.3333333333333333,\"#9c179e\"],[0.4444444444444444,\"#bd3786\"],[0.5555555555555556,\"#d8576b\"],[0.6666666666666666,\"#ed7953\"],[0.7777777777777778,\"#fb9f3a\"],[0.8888888888888888,\"#fdca26\"],[1.0,\"#f0f921\"]]}],\"choropleth\":[{\"type\":\"choropleth\",\"colorbar\":{\"outlinewidth\":0,\"ticks\":\"\"}}],\"histogram2d\":[{\"type\":\"histogram2d\",\"colorbar\":{\"outlinewidth\":0,\"ticks\":\"\"},\"colorscale\":[[0.0,\"#0d0887\"],[0.1111111111111111,\"#46039f\"],[0.2222222222222222,\"#7201a8\"],[0.3333333333333333,\"#9c179e\"],[0.4444444444444444,\"#bd3786\"],[0.5555555555555556,\"#d8576b\"],[0.6666666666666666,\"#ed7953\"],[0.7777777777777778,\"#fb9f3a\"],[0.8888888888888888,\"#fdca26\"],[1.0,\"#f0f921\"]]}],\"heatmap\":[{\"type\":\"heatmap\",\"colorbar\":{\"outlinewidth\":0,\"ticks\":\"\"},\"colorscale\":[[0.0,\"#0d0887\"],[0.1111111111111111,\"#46039f\"],[0.2222222222222222,\"#7201a8\"],[0.3333333333333333,\"#9c179e\"],[0.4444444444444444,\"#bd3786\"],[0.5555555555555556,\"#d8576b\"],[0.6666666666666666,\"#ed7953\"],[0.7777777777777778,\"#fb9f3a\"],[0.8888888888888888,\"#fdca26\"],[1.0,\"#f0f921\"]]}],\"heatmapgl\":[{\"type\":\"heatmapgl\",\"colorbar\":{\"outlinewidth\":0,\"ticks\":\"\"},\"colorscale\":[[0.0,\"#0d0887\"],[0.1111111111111111,\"#46039f\"],[0.2222222222222222,\"#7201a8\"],[0.3333333333333333,\"#9c179e\"],[0.4444444444444444,\"#bd3786\"],[0.5555555555555556,\"#d8576b\"],[0.6666666666666666,\"#ed7953\"],[0.7777777777777778,\"#fb9f3a\"],[0.8888888888888888,\"#fdca26\"],[1.0,\"#f0f921\"]]}],\"contourcarpet\":[{\"type\":\"contourcarpet\",\"colorbar\":{\"outlinewidth\":0,\"ticks\":\"\"}}],\"contour\":[{\"type\":\"contour\",\"colorbar\":{\"outlinewidth\":0,\"ticks\":\"\"},\"colorscale\":[[0.0,\"#0d0887\"],[0.1111111111111111,\"#46039f\"],[0.2222222222222222,\"#7201a8\"],[0.3333333333333333,\"#9c179e\"],[0.4444444444444444,\"#bd3786\"],[0.5555555555555556,\"#d8576b\"],[0.6666666666666666,\"#ed7953\"],[0.7777777777777778,\"#fb9f3a\"],[0.8888888888888888,\"#fdca26\"],[1.0,\"#f0f921\"]]}],\"surface\":[{\"type\":\"surface\",\"colorbar\":{\"outlinewidth\":0,\"ticks\":\"\"},\"colorscale\":[[0.0,\"#0d0887\"],[0.1111111111111111,\"#46039f\"],[0.2222222222222222,\"#7201a8\"],[0.3333333333333333,\"#9c179e\"],[0.4444444444444444,\"#bd3786\"],[0.5555555555555556,\"#d8576b\"],[0.6666666666666666,\"#ed7953\"],[0.7777777777777778,\"#fb9f3a\"],[0.8888888888888888,\"#fdca26\"],[1.0,\"#f0f921\"]]}],\"mesh3d\":[{\"type\":\"mesh3d\",\"colorbar\":{\"outlinewidth\":0,\"ticks\":\"\"}}],\"scatter\":[{\"fillpattern\":{\"fillmode\":\"overlay\",\"size\":10,\"solidity\":0.2},\"type\":\"scatter\"}],\"parcoords\":[{\"type\":\"parcoords\",\"line\":{\"colorbar\":{\"outlinewidth\":0,\"ticks\":\"\"}}}],\"scatterpolargl\":[{\"type\":\"scatterpolargl\",\"marker\":{\"colorbar\":{\"outlinewidth\":0,\"ticks\":\"\"}}}],\"bar\":[{\"error_x\":{\"color\":\"#2a3f5f\"},\"error_y\":{\"color\":\"#2a3f5f\"},\"marker\":{\"line\":{\"color\":\"#E5ECF6\",\"width\":0.5},\"pattern\":{\"fillmode\":\"overlay\",\"size\":10,\"solidity\":0.2}},\"type\":\"bar\"}],\"scattergeo\":[{\"type\":\"scattergeo\",\"marker\":{\"colorbar\":{\"outlinewidth\":0,\"ticks\":\"\"}}}],\"scatterpolar\":[{\"type\":\"scatterpolar\",\"marker\":{\"colorbar\":{\"outlinewidth\":0,\"ticks\":\"\"}}}],\"histogram\":[{\"marker\":{\"pattern\":{\"fillmode\":\"overlay\",\"size\":10,\"solidity\":0.2}},\"type\":\"histogram\"}],\"scattergl\":[{\"type\":\"scattergl\",\"marker\":{\"colorbar\":{\"outlinewidth\":0,\"ticks\":\"\"}}}],\"scatter3d\":[{\"type\":\"scatter3d\",\"line\":{\"colorbar\":{\"outlinewidth\":0,\"ticks\":\"\"}},\"marker\":{\"colorbar\":{\"outlinewidth\":0,\"ticks\":\"\"}}}],\"scattermapbox\":[{\"type\":\"scattermapbox\",\"marker\":{\"colorbar\":{\"outlinewidth\":0,\"ticks\":\"\"}}}],\"scatterternary\":[{\"type\":\"scatterternary\",\"marker\":{\"colorbar\":{\"outlinewidth\":0,\"ticks\":\"\"}}}],\"scattercarpet\":[{\"type\":\"scattercarpet\",\"marker\":{\"colorbar\":{\"outlinewidth\":0,\"ticks\":\"\"}}}],\"carpet\":[{\"aaxis\":{\"endlinecolor\":\"#2a3f5f\",\"gridcolor\":\"white\",\"linecolor\":\"white\",\"minorgridcolor\":\"white\",\"startlinecolor\":\"#2a3f5f\"},\"baxis\":{\"endlinecolor\":\"#2a3f5f\",\"gridcolor\":\"white\",\"linecolor\":\"white\",\"minorgridcolor\":\"white\",\"startlinecolor\":\"#2a3f5f\"},\"type\":\"carpet\"}],\"table\":[{\"cells\":{\"fill\":{\"color\":\"#EBF0F8\"},\"line\":{\"color\":\"white\"}},\"header\":{\"fill\":{\"color\":\"#C8D4E3\"},\"line\":{\"color\":\"white\"}},\"type\":\"table\"}],\"barpolar\":[{\"marker\":{\"line\":{\"color\":\"#E5ECF6\",\"width\":0.5},\"pattern\":{\"fillmode\":\"overlay\",\"size\":10,\"solidity\":0.2}},\"type\":\"barpolar\"}],\"pie\":[{\"automargin\":true,\"type\":\"pie\"}]},\"layout\":{\"autotypenumbers\":\"strict\",\"colorway\":[\"#636efa\",\"#EF553B\",\"#00cc96\",\"#ab63fa\",\"#FFA15A\",\"#19d3f3\",\"#FF6692\",\"#B6E880\",\"#FF97FF\",\"#FECB52\"],\"font\":{\"color\":\"#2a3f5f\"},\"hovermode\":\"closest\",\"hoverlabel\":{\"align\":\"left\"},\"paper_bgcolor\":\"white\",\"plot_bgcolor\":\"#E5ECF6\",\"polar\":{\"bgcolor\":\"#E5ECF6\",\"angularaxis\":{\"gridcolor\":\"white\",\"linecolor\":\"white\",\"ticks\":\"\"},\"radialaxis\":{\"gridcolor\":\"white\",\"linecolor\":\"white\",\"ticks\":\"\"}},\"ternary\":{\"bgcolor\":\"#E5ECF6\",\"aaxis\":{\"gridcolor\":\"white\",\"linecolor\":\"white\",\"ticks\":\"\"},\"baxis\":{\"gridcolor\":\"white\",\"linecolor\":\"white\",\"ticks\":\"\"},\"caxis\":{\"gridcolor\":\"white\",\"linecolor\":\"white\",\"ticks\":\"\"}},\"coloraxis\":{\"colorbar\":{\"outlinewidth\":0,\"ticks\":\"\"}},\"colorscale\":{\"sequential\":[[0.0,\"#0d0887\"],[0.1111111111111111,\"#46039f\"],[0.2222222222222222,\"#7201a8\"],[0.3333333333333333,\"#9c179e\"],[0.4444444444444444,\"#bd3786\"],[0.5555555555555556,\"#d8576b\"],[0.6666666666666666,\"#ed7953\"],[0.7777777777777778,\"#fb9f3a\"],[0.8888888888888888,\"#fdca26\"],[1.0,\"#f0f921\"]],\"sequentialminus\":[[0.0,\"#0d0887\"],[0.1111111111111111,\"#46039f\"],[0.2222222222222222,\"#7201a8\"],[0.3333333333333333,\"#9c179e\"],[0.4444444444444444,\"#bd3786\"],[0.5555555555555556,\"#d8576b\"],[0.6666666666666666,\"#ed7953\"],[0.7777777777777778,\"#fb9f3a\"],[0.8888888888888888,\"#fdca26\"],[1.0,\"#f0f921\"]],\"diverging\":[[0,\"#8e0152\"],[0.1,\"#c51b7d\"],[0.2,\"#de77ae\"],[0.3,\"#f1b6da\"],[0.4,\"#fde0ef\"],[0.5,\"#f7f7f7\"],[0.6,\"#e6f5d0\"],[0.7,\"#b8e186\"],[0.8,\"#7fbc41\"],[0.9,\"#4d9221\"],[1,\"#276419\"]]},\"xaxis\":{\"gridcolor\":\"white\",\"linecolor\":\"white\",\"ticks\":\"\",\"title\":{\"standoff\":15},\"zerolinecolor\":\"white\",\"automargin\":true,\"zerolinewidth\":2},\"yaxis\":{\"gridcolor\":\"white\",\"linecolor\":\"white\",\"ticks\":\"\",\"title\":{\"standoff\":15},\"zerolinecolor\":\"white\",\"automargin\":true,\"zerolinewidth\":2},\"scene\":{\"xaxis\":{\"backgroundcolor\":\"#E5ECF6\",\"gridcolor\":\"white\",\"linecolor\":\"white\",\"showbackground\":true,\"ticks\":\"\",\"zerolinecolor\":\"white\",\"gridwidth\":2},\"yaxis\":{\"backgroundcolor\":\"#E5ECF6\",\"gridcolor\":\"white\",\"linecolor\":\"white\",\"showbackground\":true,\"ticks\":\"\",\"zerolinecolor\":\"white\",\"gridwidth\":2},\"zaxis\":{\"backgroundcolor\":\"#E5ECF6\",\"gridcolor\":\"white\",\"linecolor\":\"white\",\"showbackground\":true,\"ticks\":\"\",\"zerolinecolor\":\"white\",\"gridwidth\":2}},\"shapedefaults\":{\"line\":{\"color\":\"#2a3f5f\"}},\"annotationdefaults\":{\"arrowcolor\":\"#2a3f5f\",\"arrowhead\":0,\"arrowwidth\":1},\"geo\":{\"bgcolor\":\"white\",\"landcolor\":\"#E5ECF6\",\"subunitcolor\":\"white\",\"showland\":true,\"showlakes\":true,\"lakecolor\":\"white\"},\"title\":{\"x\":0.05},\"mapbox\":{\"style\":\"light\"}}},\"title\":{\"text\":\"Actual vs Predicted Values\"},\"xaxis\":{\"title\":{\"text\":\"Actual Values\"}},\"yaxis\":{\"title\":{\"text\":\"Predicted Values\"}},\"showlegend\":true},                        {\"responsive\": true}                    ).then(function(){\n",
       "                            \n",
       "var gd = document.getElementById('615a1489-0457-4403-9b69-04d8928dd6e4');\n",
       "var x = new MutationObserver(function (mutations, observer) {{\n",
       "        var display = window.getComputedStyle(gd).display;\n",
       "        if (!display || display === 'none') {{\n",
       "            console.log([gd, 'removed!']);\n",
       "            Plotly.purge(gd);\n",
       "            observer.disconnect();\n",
       "        }}\n",
       "}});\n",
       "\n",
       "// Listen for the removal of the full notebook cells\n",
       "var notebookContainer = gd.closest('#notebook-container');\n",
       "if (notebookContainer) {{\n",
       "    x.observe(notebookContainer, {childList: true});\n",
       "}}\n",
       "\n",
       "// Listen for the clearing of the current output cell\n",
       "var outputEl = gd.closest('.output');\n",
       "if (outputEl) {{\n",
       "    x.observe(outputEl, {childList: true});\n",
       "}}\n",
       "\n",
       "                        })                };                });            </script>        </div>"
      ]
     },
     "metadata": {},
     "output_type": "display_data"
    }
   ],
   "source": [
    "# Creating a scatter plot with actual and predicted values\n",
    "\n",
    "fig = go.Figure()\n",
    "\n",
    "fig.add_trace(go.Scatter(\n",
    "    x=y_test.flatten(),\n",
    "    y=y_pred,\n",
    "    mode='markers',\n",
    "    name='Actual vs Predicted'\n",
    "))\n",
    "\n",
    "# Add a line representing the ideal case\n",
    "fig.add_trace(go.Scatter(\n",
    "    x=[min(y_test.flatten()), max(y_test.flatten())],\n",
    "    y=[min(y_test.flatten()), max(y_test.flatten())],\n",
    "    mode='lines',\n",
    "    name='Ideal',\n",
    "    line=dict(color='red', dash='dash')\n",
    "))\n",
    "\n",
    "fig.update_layout(\n",
    "    title='Actual vs Predicted Values',\n",
    "    xaxis_title='Actual Values',\n",
    "    yaxis_title='Predicted Values',\n",
    "    showlegend=True,\n",
    "    )\n",
    "\n",
    "fig.show()"
   ]
  }
 ],
 "metadata": {
  "kernelspec": {
   "display_name": "Python 3 (ipykernel)",
   "language": "python",
   "name": "python3"
  },
  "language_info": {
   "codemirror_mode": {
    "name": "ipython",
    "version": 3
   },
   "file_extension": ".py",
   "mimetype": "text/x-python",
   "name": "python",
   "nbconvert_exporter": "python",
   "pygments_lexer": "ipython3",
   "version": "3.11.4"
  }
 },
 "nbformat": 4,
 "nbformat_minor": 5
}
